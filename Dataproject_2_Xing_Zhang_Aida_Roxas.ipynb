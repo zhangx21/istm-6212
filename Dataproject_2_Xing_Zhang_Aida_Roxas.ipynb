{
 "cells": [
  {
   "cell_type": "markdown",
   "metadata": {},
   "source": [
    "Data management\n",
    "\n",
    "project 2\n",
    "\n",
    "Xing Zhang G37080319\n",
    "\n",
    "\n"
   ]
  },
  {
   "cell_type": "markdown",
   "metadata": {},
   "source": [
    "# Project 02 - Due Friday, November 11 at 12pm\n",
    "\n",
    "*Objectives*: Gain experience loading a transactional dataset into a relational database model you define yourself and using SQL to explore its contents. Transform the data into a star schema, documenting the schema visually, and explore the transformed data analytically by writing and executing a number of SQL queries using common syntax and functions and describing your findings.  Gain practice working on these tasks with a partner.\n",
    "\n",
    "*Grading criteria*: The tasks should all be completed, and questions should all be answered with SQL queries, diagrams, and charts in the space provided, unless a text answer is requested.  The notebook itself should be completely reproducible at datanotebook.org, from start to finish: another person should be able to use the same code to obtain the same results as yours.  Note that you will receive no more than partial credit if you do not add text/markdown cells explaining your thinking at each major step in each problem.\n",
    "\n",
    "*Attestation*: **Work in pairs**.  At the end of your submitted notebook, identify the work each partner performed and attest that each contributed substantially to the work.\n",
    "\n",
    "*Deadline*: Friday, November 11, 12pm.  One member of each pair must submit your notebook to Blackboard; you should not both submit it separately.  You may each push a copy to your own GitHub repository.\n",
    "\n",
    "\n",
    "## Setup - select and obtain data\n",
    "\n",
    "The US City Open Data Census has a variety of [transactional data from all over the country](http://us-city.census.okfn.org/).  Select one topic and one city from this Census, download the data, and explain your reason for this choice before proceeding.  Provide a link to the web page for the data set you've chosen.\n",
    "\n",
    "I strongly encourage you to select a dataset from among the following topics:  Crime, Property Assessment, Campaign Finance Contributions, Service Requests (311), and Web Analytics.\n",
    "\n",
    "By *transactional* data I mean records at the grain of one event per business process.  In the case of Service Requests (311), for example, that would require data at the level of each individual report of a service request.  If this isn't clear, think about the bike trip data - each individual ride was included - and look for data at that level of event/process specificity.  Avoid data like the Connecticut boating data, which was summarized by year, not individual transactions.\n",
    "\n",
    "Please aim for a dataset of at least 10,000 individual records, but less than 250,000 records.  A little more or a little less is okay, but try to stay within these limits."
   ]
  },
  {
   "cell_type": "markdown",
   "metadata": {},
   "source": [
    "## Problem 1 - examine the data (20 points)\n",
    "\n",
    "Use `csvstat`, `pandas`, or other tools as you see fit and observe the contents of your dataset.  Review important points from any metadata provided.  Describe what you see:  What do the columns mean?  Are there null values?  Which columns interest you the most?  Which columns present some opportunities, challenges, or questions you would like to ask?"
   ]
  },
  {
   "cell_type": "code",
   "execution_count": 1,
   "metadata": {
    "collapsed": false
   },
   "outputs": [
    {
     "name": "stdout",
     "output_type": "stream",
     "text": [
      "--2016-11-11 15:28:53--  https://data.wprdc.org/datastore/dump/c0fcc09a-7ddc-4f79-a4c1-9542301ef9dd\n",
      "Resolving data.wprdc.org (data.wprdc.org)... 136.142.88.59\n",
      "Connecting to data.wprdc.org (data.wprdc.org)|136.142.88.59|:443... connected.\n",
      "HTTP request sent, awaiting response... 200 OK\n",
      "Length: 14724786 (14M) [text/csv]\n",
      "Saving to: ‘c0fcc09a-7ddc-4f79-a4c1-9542301ef9dd’\n",
      "\n",
      "c0fcc09a-7ddc-4f79- 100%[=====================>]  14.04M  38.6MB/s   in 0.4s   \n",
      "\n",
      "2016-11-11 15:29:00 (38.6 MB/s) - ‘c0fcc09a-7ddc-4f79-a4c1-9542301ef9dd’ saved [14724786/14724786]\n",
      "\n"
     ]
    }
   ],
   "source": [
    "!wget https://data.wprdc.org/datastore/dump/c0fcc09a-7ddc-4f79-a4c1-9542301ef9dd"
   ]
  },
  {
   "cell_type": "code",
   "execution_count": 2,
   "metadata": {
    "collapsed": false
   },
   "outputs": [],
   "source": [
    "!mv c0fcc09a-7ddc-4f79-a4c1-9542301ef9dd mydata.csv"
   ]
  },
  {
   "cell_type": "code",
   "execution_count": 3,
   "metadata": {
    "collapsed": false
   },
   "outputs": [
    {
     "name": "stdout",
     "output_type": "stream",
     "text": [
      "118611 mydata.csv\r\n"
     ]
    }
   ],
   "source": [
    "!wc -l mydata.csv"
   ]
  },
  {
   "cell_type": "markdown",
   "metadata": {},
   "source": [
    "First, let's first check how many the columns in the data set, and what are their names."
   ]
  },
  {
   "cell_type": "code",
   "execution_count": 4,
   "metadata": {
    "collapsed": false
   },
   "outputs": [
    {
     "name": "stdout",
     "output_type": "stream",
     "text": [
      "  1: _id\r\n",
      "  2: REPORT_NAME\r\n",
      "  3: CCR\r\n",
      "  4: SECTION\r\n",
      "  5: DESCRIPTION\r\n",
      "  6: ARREST_TIME\r\n",
      "  7: ADDRESS\r\n",
      "  8: NEIGHBORHOOD\r\n",
      "  9: ZONE\r\n",
      " 10: AGE\r\n",
      " 11: GENDER\r\n"
     ]
    }
   ],
   "source": [
    "!csvcut -n mydata.csv"
   ]
  },
  {
   "cell_type": "markdown",
   "metadata": {},
   "source": [
    "Let's check the summary of each column's data"
   ]
  },
  {
   "cell_type": "code",
   "execution_count": 5,
   "metadata": {
    "collapsed": false
   },
   "outputs": [
    {
     "name": "stdout",
     "output_type": "stream",
     "text": [
      "  1. _id\n",
      "\t<class 'int'>\n",
      "\tNulls: False\n",
      "\tMin: 1\n",
      "\tMax: 118610\n",
      "\tSum: 7034225355\n",
      "\tMean: 59305.5\n",
      "\tMedian: 59305.5\n",
      "\tStandard Deviation: 34239.75771307385\n",
      "\tUnique values: 118610\n",
      "  2. REPORT_NAME\n",
      "\t<class 'str'>\n",
      "\tNulls: True\n",
      "\tValues: ARREST, OFFENSE 2.0\n",
      "  3. CCR\n",
      "\t<class 'int'>\n",
      "\tNulls: False\n",
      "\tMin: 10161970\n",
      "\tMax: 16845890\n",
      "\tSum: 1850360242209\n",
      "\tMean: 15600373.005724644\n",
      "\tMedian: 15242178.0\n",
      "\tStandard Deviation: 503807.6520371966\n",
      "\tUnique values: 56094\n",
      "\t5 most frequent values:\n",
      "\t\t16107722:\t64\n",
      "\t\t16073458:\t62\n",
      "\t\t15150094:\t60\n",
      "\t\t16108572:\t52\n",
      "\t\t15092372:\t49\n",
      "  4. SECTION\n",
      "\t<class 'str'>\n",
      "\tNulls: False\n",
      "\tUnique values: 541\n",
      "\t5 most frequent values:\n",
      "\t\t3304:\t5644\n",
      "\t\t2701:\t5279\n",
      "\t\t13(a)(16):\t4824\n",
      "\t\t13(a)(32):\t3797\n",
      "\t\t9999:\t3781\n",
      "\tMax length: 19\n",
      "  5. DESCRIPTION\n",
      "\t<class 'str'>\n",
      "\tNulls: False\n",
      "\tUnique values: 1575\n",
      "\t5 most frequent values:\n",
      "\t\tCriminal Mischief.:\t5637\n",
      "\t\tSimple Assault.:\t5279\n",
      "\t\tPossession of Controlled Substance:\t4824\n",
      "\t\tParaphernalia - Use or Possession:\t3797\n",
      "\t\tTheft by Unlawful Taking or Disposition.:\t3475\n",
      "\tMax length: 128\n",
      "  6. ARREST_TIME\n",
      "\t<class 'datetime.datetime'>\n",
      "\tNulls: False\n",
      "\tMin: 2015-03-10 00:01:00\n",
      "\tMax: 2016-11-10 23:44:00\n",
      "\tUnique values: 55421\n",
      "\t5 most frequent values:\n",
      "\t\t2016-02-01 10:00:00:\t86\n",
      "\t\t2016-03-31 11:45:00:\t65\n",
      "\t\t2016-04-22 19:30:00:\t55\n",
      "\t\t2016-05-13 13:30:00:\t45\n",
      "\t\t2015-08-11 16:19:00:\t39\n",
      "  7. ADDRESS\n",
      "\t<class 'str'>\n",
      "\tNulls: True\n",
      "\tUnique values: 14149\n",
      "\t5 most frequent values:\n",
      "\t\t600 block 1st Ave:\t1120\n",
      "\t\t1600 block Sandusky Ct:\t601\n",
      "\t\t1500 block E Carson St:\t591\n",
      "\t\t300 block Cedar Ave:\t457\n",
      "\t\t200 block East Ohio St:\t447\n",
      "\tMax length: 53\n",
      "  8. NEIGHBORHOOD\n",
      "\t<class 'str'>\n",
      "\tNulls: True\n",
      "\tUnique values: 100\n",
      "\t5 most frequent values:\n",
      "\t\tGolden Triangle/Civic Arena:\t8229\n",
      "\t\tSouth Side Flats:\t7692\n",
      "\t\tEast Allegheny:\t3538\n",
      "\t\tEast Liberty:\t3529\n",
      "\t\tCarrick:\t3422\n",
      "\tMax length: 27\n",
      "  9. ZONE\n",
      "\t<class 'int'>\n",
      "\tNulls: True\n",
      "\tMin: 1\n",
      "\tMax: 6\n",
      "\tSum: 376180\n",
      "\tMean: 3.186210985474103\n",
      "\tMedian: 3\n",
      "\tStandard Deviation: 1.678674781995288\n",
      "\tUnique values: 6\n",
      "\t5 most frequent values:\n",
      "\t\t1:\t26277\n",
      "\t\t3:\t24339\n",
      "\t\t5:\t20762\n",
      "\t\t2:\t19580\n",
      "\t\t4:\t14363\n",
      " 10. AGE\n",
      "\t<class 'int'>\n",
      "\tNulls: True\n",
      "\tMin: 0\n",
      "\tMax: 228\n",
      "\tSum: 1247573\n",
      "\tMean: 31.698884569453973\n",
      "\tMedian: 29\n",
      "\tStandard Deviation: 12.199175865045175\n",
      "\tUnique values: 79\n",
      "\t5 most frequent values:\n",
      "\t\t22:\t1869\n",
      "\t\t23:\t1858\n",
      "\t\t24:\t1784\n",
      "\t\t25:\t1663\n",
      "\t\t21:\t1583\n",
      " 11. GENDER\n",
      "\t<class 'str'>\n",
      "\tNulls: True\n",
      "\tValues: M, F, OSC, U, 6\n",
      "\n",
      "Row count: 118610\n"
     ]
    }
   ],
   "source": [
    "!csvstat mydata.csv"
   ]
  },
  {
   "cell_type": "markdown",
   "metadata": {
    "collapsed": false
   },
   "source": [
    "###### What do all the columns mean? \n",
    "\n",
    "\n",
    "    _id INTEGER: the unique ID of each crime case that heppened\n",
    "    REPORT_NAME : the reported name of each crime case that happened\n",
    "    CCR INTEGER: Central Control Record number for each crime\n",
    "    SECTION : the section that contians the Pennsylvania Crimes     Code for each crime\n",
    "    DESCRIPTION : the description of each crime happened\n",
    "    ARREST_TIME : the date of crimnal get arrested\n",
    "    ZONE : the zone number/id of each area that each crime happened\n",
    "    ADDRESS : the address of each crime that happened\n",
    "    NEIGHBORHOOD : the neighborhood that each crime that happened\n",
    "    AGE : the age of each crimal in each crime case that happened\n",
    "    GENDER : the gender of each crimal in each crime case that happened\n",
    "    \n",
    "### Are there null values? \n",
    "Yes, there are couple of varibables that have null values, which are:\n",
    "REPORT_NAME,\n",
    "ADDRESS,\n",
    "NEIGHBORHOOD,\n",
    "ZONE,\n",
    "AGE,\n",
    "GENDER,\n",
    "\n",
    "#### Which columns interest you the most? \n",
    "\n",
    "ADDRESS,TIME, DESCRIPTION,\n",
    "\n",
    "#### Which columns present some complications or questions you would like to ask?\n",
    "\n",
    " What are the top 10 resaons (descriptions) that happened most?\n",
    " \n",
    " What are the top 10 places  that the crimes happened at most?\n",
    " \n",
    " What are months that the crimes happened in most?\n"
   ]
  },
  {
   "cell_type": "markdown",
   "metadata": {},
   "source": [
    "## Problem 2 - define a database model, load the data, and explore (20 points)\n",
    "\n",
    "Based on what you found above, create and connect to a new database, define a database table in it, and load this dataset into it.  You may use either of the methods for this step you have seen in earlier class notebooks.  You may choose to eliminate variables/columns if they are not relevant or interesting to you - explain your reasoning if you do.  Either way, you should load a majority of the columns present in the source dataset as it is in its raw form into the database, and all of its rows.\n",
    "\n",
    "Once your data has loaded successfully, run a `COUNT(*)` query to verify that all the data has loaded correctly.\n",
    "\n",
    "Explore the data to zero in on a few themes you would like to further study analytically.  Discuss columns that present opportunities for extraction into dimensions, and identify the specific columns that contain facts you want to measure."
   ]
  },
  {
   "cell_type": "code",
   "execution_count": 6,
   "metadata": {
    "collapsed": false
   },
   "outputs": [
    {
     "name": "stderr",
     "output_type": "stream",
     "text": [
      "/opt/conda/lib/python3.5/site-packages/IPython/config.py:13: ShimWarning: The `IPython.config` package has been deprecated. You should import from traitlets.config instead.\n",
      "  \"You should import from traitlets.config instead.\", ShimWarning)\n",
      "/opt/conda/lib/python3.5/site-packages/IPython/utils/traitlets.py:5: UserWarning: IPython.utils.traitlets has moved to a top-level traitlets package.\n",
      "  warn(\"IPython.utils.traitlets has moved to a top-level traitlets package.\")\n"
     ]
    }
   ],
   "source": [
    "%reload_ext sql"
   ]
  },
  {
   "cell_type": "code",
   "execution_count": 7,
   "metadata": {
    "collapsed": false
   },
   "outputs": [
    {
     "name": "stdout",
     "output_type": "stream",
     "text": [
      "[sudo] password for jovyan: Restarting PostgreSQL 9.5 database server: main.\n"
     ]
    }
   ],
   "source": [
    "!echo 'redspot' | sudo -S service postgresql restart"
   ]
  },
  {
   "cell_type": "code",
   "execution_count": 8,
   "metadata": {
    "collapsed": false
   },
   "outputs": [],
   "source": [
    "!createdb -U dbuser pro2"
   ]
  },
  {
   "cell_type": "code",
   "execution_count": 9,
   "metadata": {
    "collapsed": false
   },
   "outputs": [
    {
     "data": {
      "text/plain": [
       "'Connected: dbuser@pro2'"
      ]
     },
     "execution_count": 9,
     "metadata": {},
     "output_type": "execute_result"
    }
   ],
   "source": [
    "%sql postgresql://dbuser@localhost:5432/pro2"
   ]
  },
  {
   "cell_type": "markdown",
   "metadata": {},
   "source": [
    "First, let's loaded the data and create a mydata table which contain all the columns, () after the VARCHAR is the max length of the each data set."
   ]
  },
  {
   "cell_type": "code",
   "execution_count": 10,
   "metadata": {
    "collapsed": false
   },
   "outputs": [
    {
     "name": "stdout",
     "output_type": "stream",
     "text": [
      "Done.\n",
      "Done.\n"
     ]
    },
    {
     "data": {
      "text/plain": [
       "[]"
      ]
     },
     "execution_count": 10,
     "metadata": {},
     "output_type": "execute_result"
    }
   ],
   "source": [
    "%%sql\n",
    "DROP TABLE IF EXISTS mydata;\n",
    "CREATE TABLE mydata\n",
    "(\n",
    "    id INTEGER,\n",
    "    REPORT_NAME VARCHAR(11),\n",
    "    CCR INTEGER,\n",
    "    SECTION VARCHAR(19),\n",
    "    DESCRIPTION VARCHAR(128),\n",
    "    ARREST_TIME TIMESTAMP,\n",
    "    ADDRESS VARCHAR(53), \n",
    "    NEIGHBORHOOD VARCHAR(27),\n",
    "    ZONE INTEGER, \n",
    "    AGE INTEGER, \n",
    "    GENDER VARCHAR(4)\n",
    ")"
   ]
  },
  {
   "cell_type": "code",
   "execution_count": 11,
   "metadata": {
    "collapsed": false
   },
   "outputs": [
    {
     "name": "stdout",
     "output_type": "stream",
     "text": [
      "/home/jovyan/work\r\n"
     ]
    }
   ],
   "source": [
    "!pwd"
   ]
  },
  {
   "cell_type": "code",
   "execution_count": 12,
   "metadata": {
    "collapsed": false
   },
   "outputs": [
    {
     "name": "stdout",
     "output_type": "stream",
     "text": [
      "118610 rows affected.\n"
     ]
    },
    {
     "data": {
      "text/plain": [
       "[]"
      ]
     },
     "execution_count": 12,
     "metadata": {},
     "output_type": "execute_result"
    }
   ],
   "source": [
    "%%sql\n",
    "COPY mydata FROM '/home/jovyan/work/mydata.csv'\n",
    "CSV\n",
    "HEADER\n",
    "QUOTE '\"'\n",
    "DELIMITER ',';"
   ]
  },
  {
   "cell_type": "markdown",
   "metadata": {},
   "source": [
    "Here, we run a COUNT(*) query to verify that all the data has loaded correctly, as we can see, both output shows 118610 rows at this moment from the source website."
   ]
  },
  {
   "cell_type": "code",
   "execution_count": 13,
   "metadata": {
    "collapsed": false
   },
   "outputs": [
    {
     "name": "stdout",
     "output_type": "stream",
     "text": [
      "1 rows affected.\n"
     ]
    },
    {
     "data": {
      "text/html": [
       "<table>\n",
       "    <tr>\n",
       "        <th>count</th>\n",
       "    </tr>\n",
       "    <tr>\n",
       "        <td>118610</td>\n",
       "    </tr>\n",
       "</table>"
      ],
      "text/plain": [
       "[(118610,)]"
      ]
     },
     "execution_count": 13,
     "metadata": {},
     "output_type": "execute_result"
    }
   ],
   "source": [
    "%%sql\n",
    "SELECT COUNT(*) FROM mydata;"
   ]
  },
  {
   "cell_type": "markdown",
   "metadata": {},
   "source": [
    "Here, the graph provides a overview of the column name, data type, max character length and if it is nullable. "
   ]
  },
  {
   "cell_type": "code",
   "execution_count": 14,
   "metadata": {
    "collapsed": false
   },
   "outputs": [
    {
     "name": "stdout",
     "output_type": "stream",
     "text": [
      "11 rows affected.\n"
     ]
    },
    {
     "data": {
      "text/html": [
       "<table>\n",
       "    <tr>\n",
       "        <th>column_name</th>\n",
       "        <th>data_type</th>\n",
       "        <th>character_maximum_length</th>\n",
       "        <th>is_nullable</th>\n",
       "    </tr>\n",
       "    <tr>\n",
       "        <td>id</td>\n",
       "        <td>integer</td>\n",
       "        <td>None</td>\n",
       "        <td>YES</td>\n",
       "    </tr>\n",
       "    <tr>\n",
       "        <td>report_name</td>\n",
       "        <td>character varying</td>\n",
       "        <td>11</td>\n",
       "        <td>YES</td>\n",
       "    </tr>\n",
       "    <tr>\n",
       "        <td>ccr</td>\n",
       "        <td>integer</td>\n",
       "        <td>None</td>\n",
       "        <td>YES</td>\n",
       "    </tr>\n",
       "    <tr>\n",
       "        <td>section</td>\n",
       "        <td>character varying</td>\n",
       "        <td>19</td>\n",
       "        <td>YES</td>\n",
       "    </tr>\n",
       "    <tr>\n",
       "        <td>description</td>\n",
       "        <td>character varying</td>\n",
       "        <td>128</td>\n",
       "        <td>YES</td>\n",
       "    </tr>\n",
       "    <tr>\n",
       "        <td>arrest_time</td>\n",
       "        <td>timestamp without time zone</td>\n",
       "        <td>None</td>\n",
       "        <td>YES</td>\n",
       "    </tr>\n",
       "    <tr>\n",
       "        <td>address</td>\n",
       "        <td>character varying</td>\n",
       "        <td>53</td>\n",
       "        <td>YES</td>\n",
       "    </tr>\n",
       "    <tr>\n",
       "        <td>neighborhood</td>\n",
       "        <td>character varying</td>\n",
       "        <td>27</td>\n",
       "        <td>YES</td>\n",
       "    </tr>\n",
       "    <tr>\n",
       "        <td>zone</td>\n",
       "        <td>integer</td>\n",
       "        <td>None</td>\n",
       "        <td>YES</td>\n",
       "    </tr>\n",
       "    <tr>\n",
       "        <td>age</td>\n",
       "        <td>integer</td>\n",
       "        <td>None</td>\n",
       "        <td>YES</td>\n",
       "    </tr>\n",
       "    <tr>\n",
       "        <td>gender</td>\n",
       "        <td>character varying</td>\n",
       "        <td>4</td>\n",
       "        <td>YES</td>\n",
       "    </tr>\n",
       "</table>"
      ],
      "text/plain": [
       "[('id', 'integer', None, 'YES'),\n",
       " ('report_name', 'character varying', 11, 'YES'),\n",
       " ('ccr', 'integer', None, 'YES'),\n",
       " ('section', 'character varying', 19, 'YES'),\n",
       " ('description', 'character varying', 128, 'YES'),\n",
       " ('arrest_time', 'timestamp without time zone', None, 'YES'),\n",
       " ('address', 'character varying', 53, 'YES'),\n",
       " ('neighborhood', 'character varying', 27, 'YES'),\n",
       " ('zone', 'integer', None, 'YES'),\n",
       " ('age', 'integer', None, 'YES'),\n",
       " ('gender', 'character varying', 4, 'YES')]"
      ]
     },
     "execution_count": 14,
     "metadata": {},
     "output_type": "execute_result"
    }
   ],
   "source": [
    "%%sql\n",
    "SELECT column_name, data_type, character_maximum_length, is_nullable\n",
    "FROM INFORMATION_SCHEMA.COLUMNS WHERE table_name = 'mydata';"
   ]
  },
  {
   "cell_type": "markdown",
   "metadata": {
    "collapsed": true
   },
   "source": [
    "Now, we try to find out the top 10  descriptions that crimes happened most , and we draw a graph to look at it visually. We can see that criminal mischief is the description that crimes had most."
   ]
  },
  {
   "cell_type": "code",
   "execution_count": 15,
   "metadata": {
    "collapsed": false
   },
   "outputs": [
    {
     "name": "stdout",
     "output_type": "stream",
     "text": [
      "10 rows affected.\n"
     ]
    },
    {
     "data": {
      "text/html": [
       "<table>\n",
       "    <tr>\n",
       "        <th>description</th>\n",
       "        <th>count</th>\n",
       "    </tr>\n",
       "    <tr>\n",
       "        <td>Criminal Mischief.</td>\n",
       "        <td>5637</td>\n",
       "    </tr>\n",
       "    <tr>\n",
       "        <td>Simple Assault.</td>\n",
       "        <td>5279</td>\n",
       "    </tr>\n",
       "    <tr>\n",
       "        <td>Possession of Controlled Substance</td>\n",
       "        <td>4824</td>\n",
       "    </tr>\n",
       "    <tr>\n",
       "        <td>Paraphernalia - Use or Possession</td>\n",
       "        <td>3797</td>\n",
       "    </tr>\n",
       "    <tr>\n",
       "        <td>Theft by Unlawful Taking or Disposition.</td>\n",
       "        <td>3475</td>\n",
       "    </tr>\n",
       "    <tr>\n",
       "        <td>Burglary.</td>\n",
       "        <td>3471</td>\n",
       "    </tr>\n",
       "    <tr>\n",
       "        <td>Accidents Involving Damage to Unattended Veh.or Prop.</td>\n",
       "        <td>3295</td>\n",
       "    </tr>\n",
       "    <tr>\n",
       "        <td>Theft from Vehicle</td>\n",
       "        <td>3224</td>\n",
       "    </tr>\n",
       "    <tr>\n",
       "        <td>Aggravated Assault.</td>\n",
       "        <td>2854</td>\n",
       "    </tr>\n",
       "    <tr>\n",
       "        <td>Bench Warrant</td>\n",
       "        <td>2744</td>\n",
       "    </tr>\n",
       "</table>"
      ],
      "text/plain": [
       "[('Criminal Mischief.', 5637),\n",
       " ('Simple Assault.', 5279),\n",
       " ('Possession of Controlled Substance', 4824),\n",
       " ('Paraphernalia - Use or Possession', 3797),\n",
       " ('Theft by Unlawful Taking or Disposition.', 3475),\n",
       " ('Burglary.', 3471),\n",
       " ('Accidents Involving Damage to Unattended Veh.or Prop.', 3295),\n",
       " ('Theft from Vehicle', 3224),\n",
       " ('Aggravated Assault.', 2854),\n",
       " ('Bench Warrant', 2744)]"
      ]
     },
     "execution_count": 15,
     "metadata": {},
     "output_type": "execute_result"
    }
   ],
   "source": [
    "%%sql\n",
    "SELECT DISTINCT DESCRIPTION, COUNT(*) AS count\n",
    "FROM mydata\n",
    "GROUP BY DESCRIPTION\n",
    "ORDER BY count DESC\n",
    "LIMIT 10;"
   ]
  },
  {
   "cell_type": "code",
   "execution_count": 16,
   "metadata": {
    "collapsed": false
   },
   "outputs": [
    {
     "name": "stderr",
     "output_type": "stream",
     "text": [
      "/opt/conda/lib/python3.5/site-packages/matplotlib/font_manager.py:273: UserWarning: Matplotlib is building the font cache using fc-list. This may take a moment.\n",
      "  warnings.warn('Matplotlib is building the font cache using fc-list. This may take a moment.')\n",
      "/opt/conda/lib/python3.5/site-packages/matplotlib/font_manager.py:273: UserWarning: Matplotlib is building the font cache using fc-list. This may take a moment.\n",
      "  warnings.warn('Matplotlib is building the font cache using fc-list. This may take a moment.')\n"
     ]
    },
    {
     "data": {
      "text/plain": [
       "<Container object of 10 artists>"
      ]
     },
     "execution_count": 16,
     "metadata": {},
     "output_type": "execute_result"
    },
    {
     "data": {
      "image/png": "[encoded data removed]",
      "text/plain": [
       "<matplotlib.figure.Figure at 0x7fa6d51860b8>"
      ]
     },
     "metadata": {},
     "output_type": "display_data"
    }
   ],
   "source": [
    "%matplotlib inline\n",
    "result = _\n",
    "result.bar()"
   ]
  },
  {
   "cell_type": "markdown",
   "metadata": {
    "collapsed": true
   },
   "source": [
    "Now, we try to find out the top 10 neighborhoods  that crime happened in most , as we can see golden triangle is the neighborhood that crime happened most."
   ]
  },
  {
   "cell_type": "code",
   "execution_count": 17,
   "metadata": {
    "collapsed": false
   },
   "outputs": [
    {
     "name": "stdout",
     "output_type": "stream",
     "text": [
      "10 rows affected.\n"
     ]
    },
    {
     "data": {
      "text/html": [
       "<table>\n",
       "    <tr>\n",
       "        <th>neighborhood</th>\n",
       "        <th>count</th>\n",
       "    </tr>\n",
       "    <tr>\n",
       "        <td>Golden Triangle/Civic Arena</td>\n",
       "        <td>8229</td>\n",
       "    </tr>\n",
       "    <tr>\n",
       "        <td>South Side Flats</td>\n",
       "        <td>7692</td>\n",
       "    </tr>\n",
       "    <tr>\n",
       "        <td>East Allegheny</td>\n",
       "        <td>3538</td>\n",
       "    </tr>\n",
       "    <tr>\n",
       "        <td>East Liberty</td>\n",
       "        <td>3529</td>\n",
       "    </tr>\n",
       "    <tr>\n",
       "        <td>Carrick</td>\n",
       "        <td>3422</td>\n",
       "    </tr>\n",
       "    <tr>\n",
       "        <td>Brighton Heights</td>\n",
       "        <td>2711</td>\n",
       "    </tr>\n",
       "    <tr>\n",
       "        <td>Bluff</td>\n",
       "        <td>2605</td>\n",
       "    </tr>\n",
       "    <tr>\n",
       "        <td>Sheraden</td>\n",
       "        <td>2577</td>\n",
       "    </tr>\n",
       "    <tr>\n",
       "        <td>Marshall-Shadeland</td>\n",
       "        <td>2534</td>\n",
       "    </tr>\n",
       "    <tr>\n",
       "        <td>Mount Washington</td>\n",
       "        <td>2523</td>\n",
       "    </tr>\n",
       "</table>"
      ],
      "text/plain": [
       "[('Golden Triangle/Civic Arena', 8229),\n",
       " ('South Side Flats', 7692),\n",
       " ('East Allegheny', 3538),\n",
       " ('East Liberty', 3529),\n",
       " ('Carrick', 3422),\n",
       " ('Brighton Heights', 2711),\n",
       " ('Bluff', 2605),\n",
       " ('Sheraden', 2577),\n",
       " ('Marshall-Shadeland', 2534),\n",
       " ('Mount Washington', 2523)]"
      ]
     },
     "execution_count": 17,
     "metadata": {},
     "output_type": "execute_result"
    }
   ],
   "source": [
    "%%sql\n",
    "SELECT DISTINCT neighborhood, COUNT(*) AS count\n",
    "FROM mydata\n",
    "GROUP BY neighborhood\n",
    "ORDER BY count DESC\n",
    "LIMIT 10;"
   ]
  },
  {
   "cell_type": "markdown",
   "metadata": {
    "collapsed": true
   },
   "source": [
    "Here, we take out the month fromthe arrest_time data set, and then draw a histogram for the frequence of months that we get from arrest_time, and from the graph, we can tell that month 7,8,9 are the three months that crimes happened in most."
   ]
  },
  {
   "cell_type": "code",
   "execution_count": 18,
   "metadata": {
    "collapsed": false
   },
   "outputs": [
    {
     "name": "stdout",
     "output_type": "stream",
     "text": [
      "12 rows affected.\n"
     ]
    },
    {
     "data": {
      "text/html": [
       "<table>\n",
       "    <tr>\n",
       "        <th>month</th>\n",
       "        <th>count</th>\n",
       "    </tr>\n",
       "    <tr>\n",
       "        <td>01</td>\n",
       "        <td>5839</td>\n",
       "    </tr>\n",
       "    <tr>\n",
       "        <td>02</td>\n",
       "        <td>5619</td>\n",
       "    </tr>\n",
       "    <tr>\n",
       "        <td>03</td>\n",
       "        <td>9112</td>\n",
       "    </tr>\n",
       "    <tr>\n",
       "        <td>04</td>\n",
       "        <td>10304</td>\n",
       "    </tr>\n",
       "    <tr>\n",
       "        <td>05</td>\n",
       "        <td>11908</td>\n",
       "    </tr>\n",
       "    <tr>\n",
       "        <td>06</td>\n",
       "        <td>12365</td>\n",
       "    </tr>\n",
       "    <tr>\n",
       "        <td>07</td>\n",
       "        <td>12732</td>\n",
       "    </tr>\n",
       "    <tr>\n",
       "        <td>08</td>\n",
       "        <td>13469</td>\n",
       "    </tr>\n",
       "    <tr>\n",
       "        <td>09</td>\n",
       "        <td>12004</td>\n",
       "    </tr>\n",
       "    <tr>\n",
       "        <td>10</td>\n",
       "        <td>11862</td>\n",
       "    </tr>\n",
       "    <tr>\n",
       "        <td>11</td>\n",
       "        <td>8091</td>\n",
       "    </tr>\n",
       "    <tr>\n",
       "        <td>12</td>\n",
       "        <td>5305</td>\n",
       "    </tr>\n",
       "</table>"
      ],
      "text/plain": [
       "[('01', 5839),\n",
       " ('02', 5619),\n",
       " ('03', 9112),\n",
       " ('04', 10304),\n",
       " ('05', 11908),\n",
       " ('06', 12365),\n",
       " ('07', 12732),\n",
       " ('08', 13469),\n",
       " ('09', 12004),\n",
       " ('10', 11862),\n",
       " ('11', 8091),\n",
       " ('12', 5305)]"
      ]
     },
     "execution_count": 18,
     "metadata": {},
     "output_type": "execute_result"
    }
   ],
   "source": [
    "%%sql\n",
    "SELECT TO_CHAR(ARREST_TIME, 'MM') AS month, COUNT(*) as count\n",
    "FROM mydata\n",
    "GROUP BY month\n",
    "ORDER BY month"
   ]
  },
  {
   "cell_type": "code",
   "execution_count": 19,
   "metadata": {
    "collapsed": false
   },
   "outputs": [
    {
     "data": {
      "text/plain": [
       "<Container object of 12 artists>"
      ]
     },
     "execution_count": 19,
     "metadata": {},
     "output_type": "execute_result"
    },
    {
     "data": {
      "image/png": "[encoded data removed]",
      "text/plain": [
       "<matplotlib.figure.Figure at 0x7fa6d58a0e48>"
      ]
     },
     "metadata": {},
     "output_type": "display_data"
    }
   ],
   "source": [
    "%matplotlib inline\n",
    "result = _\n",
    "result.bar()"
   ]
  },
  {
   "cell_type": "markdown",
   "metadata": {
    "collapsed": true
   },
   "source": [
    "Here, we select the year from the arrest time, we can see that we only have data for year 15 and 16, we can see that the total number of crimes in 16 is slightly less than the number happen in 15, which is a good news!"
   ]
  },
  {
   "cell_type": "code",
   "execution_count": 20,
   "metadata": {
    "collapsed": false
   },
   "outputs": [
    {
     "name": "stdout",
     "output_type": "stream",
     "text": [
      "2 rows affected.\n"
     ]
    },
    {
     "data": {
      "text/html": [
       "<table>\n",
       "    <tr>\n",
       "        <th>year</th>\n",
       "        <th>count</th>\n",
       "    </tr>\n",
       "    <tr>\n",
       "        <td>15</td>\n",
       "        <td>59803</td>\n",
       "    </tr>\n",
       "    <tr>\n",
       "        <td>16</td>\n",
       "        <td>58807</td>\n",
       "    </tr>\n",
       "</table>"
      ],
      "text/plain": [
       "[('15', 59803), ('16', 58807)]"
      ]
     },
     "execution_count": 20,
     "metadata": {},
     "output_type": "execute_result"
    }
   ],
   "source": [
    "%%sql\n",
    "SELECT TO_CHAR(ARREST_TIME, 'YY') AS year, COUNT(*) as count\n",
    "FROM mydata\n",
    "GROUP BY year\n",
    "ORDER BY year"
   ]
  },
  {
   "cell_type": "code",
   "execution_count": 21,
   "metadata": {
    "collapsed": false
   },
   "outputs": [
    {
     "data": {
      "text/plain": [
       "<Container object of 2 artists>"
      ]
     },
     "execution_count": 21,
     "metadata": {},
     "output_type": "execute_result"
    },
    {
     "data": {
      "image/png": "[encoded data removed]",
      "text/plain": [
       "<matplotlib.figure.Figure at 0x7fa6d31ddb00>"
      ]
     },
     "metadata": {},
     "output_type": "display_data"
    }
   ],
   "source": [
    "%matplotlib inline\n",
    "result = _\n",
    "result.bar()"
   ]
  },
  {
   "cell_type": "markdown",
   "metadata": {},
   "source": [
    "Now, we try to do the data cleaning step, lets create a table named clean_data, in this table, we know \"id\" (crime report id for each crime record) is not null. and we try to imputes values for null cells to avoid null values. \"-999\" is for the themes/cells that only have integer nulls. "
   ]
  },
  {
   "cell_type": "code",
   "execution_count": 22,
   "metadata": {
    "collapsed": false
   },
   "outputs": [
    {
     "name": "stdout",
     "output_type": "stream",
     "text": [
      "Done.\n",
      "118610 rows affected.\n"
     ]
    },
    {
     "data": {
      "text/plain": [
       "[]"
      ]
     },
     "execution_count": 22,
     "metadata": {},
     "output_type": "execute_result"
    }
   ],
   "source": [
    "%%sql\n",
    "DROP TABLE IF EXISTS clean_data;\n",
    "CREATE TABLE clean_data AS( \n",
    "SELECT *\n",
    "FROM mydata \n",
    "WHERE  id is not null)\n",
    ";"
   ]
  },
  {
   "cell_type": "markdown",
   "metadata": {},
   "source": [
    "Here, the output also matches the result that we get from q1, \"Are there null values?\" and the answer in Q1 is \"YES, they are: REPORT_NAME, ADDRESS, NEIGHBORHOOD, ZONE, AGE, GENDER\"."
   ]
  },
  {
   "cell_type": "code",
   "execution_count": 23,
   "metadata": {
    "collapsed": false
   },
   "outputs": [
    {
     "name": "stdout",
     "output_type": "stream",
     "text": [
      "44016 rows affected.\n",
      "1 rows affected.\n",
      "1 rows affected.\n",
      "545 rows affected.\n",
      "79253 rows affected.\n",
      "78728 rows affected.\n",
      "0 rows affected.\n",
      "0 rows affected.\n",
      "0 rows affected.\n"
     ]
    },
    {
     "data": {
      "text/plain": [
       "[]"
      ]
     },
     "execution_count": 23,
     "metadata": {},
     "output_type": "execute_result"
    }
   ],
   "source": [
    "%%sql   \n",
    "UPDATE clean_data SET REPORT_NAME = 'Null' where REPORT_NAME is null;\n",
    "UPDATE clean_data SET ADDRESS = 'Null' where ADDRESS is null;\n",
    "UPDATE clean_data SET NEIGHBORHOOD = 'Null' where NEIGHBORHOOD is null;\n",
    "UPDATE clean_data SET ZONE = -999 where ZONE is null;\n",
    "UPDATE clean_data SET AGE = -999 where AGE is null;\n",
    "UPDATE clean_data SET GENDER = 'Null' where GENDER is null;\n",
    "UPDATE clean_data SET CCR = -999 where CCR is null;\n",
    "UPDATE clean_data SET SECTION = 'Null' where SECTION is null;\n",
    "UPDATE clean_data SET DESCRIPTION = 'Null' where DESCRIPTION is null;\n",
    "\n",
    "\n",
    "\n"
   ]
  },
  {
   "cell_type": "markdown",
   "metadata": {},
   "source": [
    "## Problem 3 - define a star schema, and load your data into it (30 points)\n",
    "\n",
    "Define a star schema consisting of at least one fact table and at least two dimensions.  Transform your source data into the new fact table and dimensions.  Discuss your key modeling decisions.\n",
    "\n",
    "Document your star schema with a diagram.  There several tools available for this, such as Google Docs and Microsoft Visio."
   ]
  },
  {
   "cell_type": "code",
   "execution_count": 24,
   "metadata": {
    "collapsed": false
   },
   "outputs": [
    {
     "name": "stdout",
     "output_type": "stream",
     "text": [
      "/home/jovyan/work\r\n"
     ]
    }
   ],
   "source": [
    "!pwd"
   ]
  },
  {
   "cell_type": "markdown",
   "metadata": {},
   "source": [
    "In this part, I created a fact table,which is called \"crimefact\",and two dimensions table, one is called location_dim and the other one is called description_dim. Location dimension contains location_id(primary key), address, zone, and neighberhood. Description dimension contains description_id(primary key) and description First, let's look at the fact table and dimension tables in a picture."
   ]
  },
  {
   "cell_type": "code",
   "execution_count": 25,
   "metadata": {
    "collapsed": false
   },
   "outputs": [],
   "source": [
    "from IPython.display import Image\n",
    "PATH = \"/home/jovyan/work/\""
   ]
  },
  {
   "cell_type": "code",
   "execution_count": 26,
   "metadata": {
    "collapsed": false
   },
   "outputs": [
    {
     "data": {
      "image/png": "[encoded data removed]",
      "text/plain": [
       "<IPython.core.display.Image object>"
      ]
     },
     "execution_count": 26,
     "metadata": {
      "image/png": {
       "height": 1000,
       "width": 1000
      }
     },
     "output_type": "execute_result"
    }
   ],
   "source": [
    "Image(filename = PATH + \"table.png\", width=1000, height=1000)"
   ]
  },
  {
   "cell_type": "markdown",
   "metadata": {
    "collapsed": false
   },
   "source": [
    "Here, we creat the location dimention which has location_id as primary key and contains zone, address and neighborhood."
   ]
  },
  {
   "cell_type": "code",
   "execution_count": 27,
   "metadata": {
    "collapsed": false
   },
   "outputs": [
    {
     "name": "stdout",
     "output_type": "stream",
     "text": [
      "Done.\n",
      "Done.\n"
     ]
    },
    {
     "data": {
      "text/plain": [
       "[]"
      ]
     },
     "execution_count": 27,
     "metadata": {},
     "output_type": "execute_result"
    }
   ],
   "source": [
    "%%sql\n",
    "DROP TABLE IF EXISTS location_dim CASCADE;\n",
    "CREATE TABLE location_dim (\n",
    "  location_id SERIAL PRIMARY KEY,\n",
    "  ZONE INTEGER DEFAULT NULL, \n",
    "  ADDRESS VARCHAR(53) DEFAULT NULL, \n",
    "  NEIGHBORHOOD VARCHAR(27) DEFAULT NULL \n",
    "    \n",
    ");"
   ]
  },
  {
   "cell_type": "markdown",
   "metadata": {},
   "source": [
    "Then we insert ZONE, ADDRESS, HEIGHBORHOOD information from the data table that we already cleaned."
   ]
  },
  {
   "cell_type": "code",
   "execution_count": 28,
   "metadata": {
    "collapsed": false
   },
   "outputs": [
    {
     "name": "stdout",
     "output_type": "stream",
     "text": [
      "118610 rows affected.\n"
     ]
    },
    {
     "data": {
      "text/plain": [
       "[]"
      ]
     },
     "execution_count": 28,
     "metadata": {},
     "output_type": "execute_result"
    }
   ],
   "source": [
    "%%sql\n",
    "INSERT INTO location_dim (ZONE, ADDRESS, NEIGHBORHOOD)\n",
    "SELECT \n",
    "    ZONE, \n",
    "    ADDRESS,\n",
    "    NEIGHBORHOOD \n",
    "from clean_data\n",
    ";"
   ]
  },
  {
   "cell_type": "markdown",
   "metadata": {},
   "source": [
    "See sample output for the location dimension table below."
   ]
  },
  {
   "cell_type": "code",
   "execution_count": 29,
   "metadata": {
    "collapsed": false
   },
   "outputs": [
    {
     "name": "stdout",
     "output_type": "stream",
     "text": [
      "10 rows affected.\n"
     ]
    },
    {
     "data": {
      "text/html": [
       "<table>\n",
       "    <tr>\n",
       "        <th>location_id</th>\n",
       "        <th>zone</th>\n",
       "        <th>address</th>\n",
       "        <th>neighborhood</th>\n",
       "    </tr>\n",
       "    <tr>\n",
       "        <td>1</td>\n",
       "        <td>3</td>\n",
       "        <td>100 block Jucunda St</td>\n",
       "        <td>Knoxville</td>\n",
       "    </tr>\n",
       "    <tr>\n",
       "        <td>2</td>\n",
       "        <td>3</td>\n",
       "        <td>100 block Jucunda St</td>\n",
       "        <td>Knoxville</td>\n",
       "    </tr>\n",
       "    <tr>\n",
       "        <td>3</td>\n",
       "        <td>3</td>\n",
       "        <td>100 block Jucunda St</td>\n",
       "        <td>Knoxville</td>\n",
       "    </tr>\n",
       "    <tr>\n",
       "        <td>4</td>\n",
       "        <td>3</td>\n",
       "        <td>400 block Orchard Pl</td>\n",
       "        <td>Knoxville</td>\n",
       "    </tr>\n",
       "    <tr>\n",
       "        <td>5</td>\n",
       "        <td>3</td>\n",
       "        <td>400 block Orchard Pl</td>\n",
       "        <td>Knoxville</td>\n",
       "    </tr>\n",
       "    <tr>\n",
       "        <td>6</td>\n",
       "        <td>3</td>\n",
       "        <td>400 block Orchard Pl</td>\n",
       "        <td>Knoxville</td>\n",
       "    </tr>\n",
       "    <tr>\n",
       "        <td>7</td>\n",
       "        <td>3</td>\n",
       "        <td>400 block Orchard Pl</td>\n",
       "        <td>Knoxville</td>\n",
       "    </tr>\n",
       "    <tr>\n",
       "        <td>8</td>\n",
       "        <td>3</td>\n",
       "        <td>Brownsville Rd &amp; Calhoun Ave</td>\n",
       "        <td>Carrick</td>\n",
       "    </tr>\n",
       "    <tr>\n",
       "        <td>9</td>\n",
       "        <td>3</td>\n",
       "        <td>Brownsville Rd &amp; Calhoun Ave</td>\n",
       "        <td>Carrick</td>\n",
       "    </tr>\n",
       "    <tr>\n",
       "        <td>10</td>\n",
       "        <td>3</td>\n",
       "        <td>Brownsville Rd &amp; Calhoun Ave</td>\n",
       "        <td>Carrick</td>\n",
       "    </tr>\n",
       "</table>"
      ],
      "text/plain": [
       "[(1, 3, '100 block Jucunda St', 'Knoxville'),\n",
       " (2, 3, '100 block Jucunda St', 'Knoxville'),\n",
       " (3, 3, '100 block Jucunda St', 'Knoxville'),\n",
       " (4, 3, '400 block Orchard Pl', 'Knoxville'),\n",
       " (5, 3, '400 block Orchard Pl', 'Knoxville'),\n",
       " (6, 3, '400 block Orchard Pl', 'Knoxville'),\n",
       " (7, 3, '400 block Orchard Pl', 'Knoxville'),\n",
       " (8, 3, 'Brownsville Rd & Calhoun Ave', 'Carrick'),\n",
       " (9, 3, 'Brownsville Rd & Calhoun Ave', 'Carrick'),\n",
       " (10, 3, 'Brownsville Rd & Calhoun Ave', 'Carrick')]"
      ]
     },
     "execution_count": 29,
     "metadata": {},
     "output_type": "execute_result"
    }
   ],
   "source": [
    "%%sql\n",
    "select * from location_dim limit 10;"
   ]
  },
  {
   "cell_type": "markdown",
   "metadata": {},
   "source": [
    "Here, we creat the description dimention which has description_id as primary key and contains description."
   ]
  },
  {
   "cell_type": "code",
   "execution_count": 30,
   "metadata": {
    "collapsed": false
   },
   "outputs": [
    {
     "name": "stdout",
     "output_type": "stream",
     "text": [
      "Done.\n",
      "Done.\n"
     ]
    },
    {
     "data": {
      "text/plain": [
       "[]"
      ]
     },
     "execution_count": 30,
     "metadata": {},
     "output_type": "execute_result"
    }
   ],
   "source": [
    "%%sql\n",
    "DROP TABLE IF EXISTS description_dim;\n",
    "CREATE TABLE description_dim (\n",
    "  description_id SERIAL PRIMARY KEY,\n",
    "  DESCRIPTION VARCHAR(128) \n",
    "    \n",
    ");"
   ]
  },
  {
   "cell_type": "code",
   "execution_count": 31,
   "metadata": {
    "collapsed": false
   },
   "outputs": [
    {
     "name": "stdout",
     "output_type": "stream",
     "text": [
      "118610 rows affected.\n"
     ]
    },
    {
     "data": {
      "text/plain": [
       "[]"
      ]
     },
     "execution_count": 31,
     "metadata": {},
     "output_type": "execute_result"
    }
   ],
   "source": [
    "%%sql\n",
    "INSERT INTO description_dim (DESCRIPTION)\n",
    "SELECT \n",
    "    DESCRIPTION\n",
    "from clean_data\n",
    ";"
   ]
  },
  {
   "cell_type": "markdown",
   "metadata": {},
   "source": [
    "See sample output for the location dimension table below."
   ]
  },
  {
   "cell_type": "code",
   "execution_count": 32,
   "metadata": {
    "collapsed": false
   },
   "outputs": [
    {
     "name": "stdout",
     "output_type": "stream",
     "text": [
      "10 rows affected.\n"
     ]
    },
    {
     "data": {
      "text/html": [
       "<table>\n",
       "    <tr>\n",
       "        <th>description_id</th>\n",
       "        <th>description</th>\n",
       "    </tr>\n",
       "    <tr>\n",
       "        <td>1</td>\n",
       "        <td>Public Drunkenness</td>\n",
       "    </tr>\n",
       "    <tr>\n",
       "        <td>2</td>\n",
       "        <td>Criminal Trespass</td>\n",
       "    </tr>\n",
       "    <tr>\n",
       "        <td>3</td>\n",
       "        <td>Criminal Mischief.</td>\n",
       "    </tr>\n",
       "    <tr>\n",
       "        <td>4</td>\n",
       "        <td>Actual Communication</td>\n",
       "    </tr>\n",
       "    <tr>\n",
       "        <td>5</td>\n",
       "        <td>Ethnic Intimidation.</td>\n",
       "    </tr>\n",
       "    <tr>\n",
       "        <td>6</td>\n",
       "        <td>CRIMINAL MISCHIEF - Intentionally Damages Real Or Personal Property Of Another</td>\n",
       "    </tr>\n",
       "    <tr>\n",
       "        <td>7</td>\n",
       "        <td>Stalking</td>\n",
       "    </tr>\n",
       "    <tr>\n",
       "        <td>8</td>\n",
       "        <td>Possession of Controlled Substance</td>\n",
       "    </tr>\n",
       "    <tr>\n",
       "        <td>9</td>\n",
       "        <td>Paraphernalia - Use or Possession</td>\n",
       "    </tr>\n",
       "    <tr>\n",
       "        <td>10</td>\n",
       "        <td>Possession of Controlled Substance</td>\n",
       "    </tr>\n",
       "</table>"
      ],
      "text/plain": [
       "[(1, 'Public Drunkenness'),\n",
       " (2, 'Criminal Trespass'),\n",
       " (3, 'Criminal Mischief.'),\n",
       " (4, 'Actual Communication'),\n",
       " (5, 'Ethnic Intimidation.'),\n",
       " (6, 'CRIMINAL MISCHIEF - Intentionally Damages Real Or Personal Property Of Another'),\n",
       " (7, 'Stalking'),\n",
       " (8, 'Possession of Controlled Substance'),\n",
       " (9, 'Paraphernalia - Use or Possession'),\n",
       " (10, 'Possession of Controlled Substance')]"
      ]
     },
     "execution_count": 32,
     "metadata": {},
     "output_type": "execute_result"
    }
   ],
   "source": [
    "%%sql\n",
    "select * from description_dim limit 10;"
   ]
  },
  {
   "cell_type": "markdown",
   "metadata": {},
   "source": [
    "Now, we create the fact table named as \"crimefact\", which contains the two primary keys from the two dimentions, and other themes."
   ]
  },
  {
   "cell_type": "code",
   "execution_count": 33,
   "metadata": {
    "collapsed": false
   },
   "outputs": [
    {
     "name": "stdout",
     "output_type": "stream",
     "text": [
      "Done.\n",
      "Done.\n"
     ]
    },
    {
     "data": {
      "text/plain": [
       "[]"
      ]
     },
     "execution_count": 33,
     "metadata": {},
     "output_type": "execute_result"
    }
   ],
   "source": [
    "%%sql\n",
    "DROP TABLE IF EXISTS crimefact;\n",
    "CREATE TABLE crimefact\n",
    "(\n",
    "\n",
    "    location_id SERIAL NOT NULL ,\n",
    "    description_id SERIAL NOT NULL,\n",
    "\n",
    "\n",
    "    report_name varchar(11),\n",
    "    ccr integer,\n",
    "    section varchar,\n",
    "    arrest_time timestamp    \n",
    ")\n"
   ]
  },
  {
   "cell_type": "markdown",
   "metadata": {},
   "source": [
    "Here, we tried to connect the location dimention table, description dimention table both to  crimefact table, by using the primary key in each dimention table (location_id and description_id)  and  sent them as FOREIGN KEY, and update it and insert rest of themes into crimetable."
   ]
  },
  {
   "cell_type": "code",
   "execution_count": 34,
   "metadata": {
    "collapsed": false
   },
   "outputs": [
    {
     "name": "stdout",
     "output_type": "stream",
     "text": [
      "118610 rows affected.\n"
     ]
    },
    {
     "data": {
      "text/plain": [
       "[]"
      ]
     },
     "execution_count": 34,
     "metadata": {},
     "output_type": "execute_result"
    }
   ],
   "source": [
    "%%sql\n",
    "INSERT INTO crimefact(report_name,ccr,section,arrest_time)\n",
    "SELECT report_name,ccr,section,arrest_time\n",
    "FROM clean_data"
   ]
  },
  {
   "cell_type": "code",
   "execution_count": 35,
   "metadata": {
    "collapsed": false
   },
   "outputs": [
    {
     "name": "stdout",
     "output_type": "stream",
     "text": [
      "Done.\n"
     ]
    },
    {
     "data": {
      "text/plain": [
       "[]"
      ]
     },
     "execution_count": 35,
     "metadata": {},
     "output_type": "execute_result"
    }
   ],
   "source": [
    "%%sql\n",
    "ALTER TABLE crimefact\n",
    "ADD CONSTRAINT location_FK FOREIGN KEY (location_id)\n",
    "REFERENCES location_dim(location_id) ON DELETE NO ACTION\n",
    "\n"
   ]
  },
  {
   "cell_type": "markdown",
   "metadata": {},
   "source": [
    "The following code works just fine sometimes, but also Sometimes, the following code shows that \"the relation already exits\", then you need to restart the notebook again, however, no matter what happen, it does not effect the code and result that we have in the following questions."
   ]
  },
  {
   "cell_type": "code",
   "execution_count": 36,
   "metadata": {
    "collapsed": false
   },
   "outputs": [
    {
     "name": "stdout",
     "output_type": "stream",
     "text": [
      "(psycopg2.ProgrammingError) constraint \"location_fk\" for relation \"crimefact\" already exists\n",
      " [SQL: 'ALTER TABLE crimefact\\nADD CONSTRAINT location_FK FOREIGN KEY (description_id)\\nREFERENCES description_dim(description_id) ON DELETE NO ACTION']\n"
     ]
    }
   ],
   "source": [
    "%%sql\n",
    "ALTER TABLE crimefact\n",
    "ADD CONSTRAINT location_FK FOREIGN KEY (description_id)\n",
    "REFERENCES description_dim(description_id) ON DELETE NO ACTION"
   ]
  },
  {
   "cell_type": "markdown",
   "metadata": {},
   "source": [
    "Here is how the crimefact looks like right now."
   ]
  },
  {
   "cell_type": "code",
   "execution_count": 37,
   "metadata": {
    "collapsed": false
   },
   "outputs": [
    {
     "name": "stdout",
     "output_type": "stream",
     "text": [
      "20 rows affected.\n"
     ]
    },
    {
     "data": {
      "text/html": [
       "<table>\n",
       "    <tr>\n",
       "        <th>location_id</th>\n",
       "        <th>description_id</th>\n",
       "        <th>report_name</th>\n",
       "        <th>ccr</th>\n",
       "        <th>section</th>\n",
       "        <th>arrest_time</th>\n",
       "    </tr>\n",
       "    <tr>\n",
       "        <td>1</td>\n",
       "        <td>1</td>\n",
       "        <td>ARREST</td>\n",
       "        <td>15155207</td>\n",
       "        <td>5505</td>\n",
       "        <td>2015-08-18 16:16:00</td>\n",
       "    </tr>\n",
       "    <tr>\n",
       "        <td>2</td>\n",
       "        <td>2</td>\n",
       "        <td>ARREST</td>\n",
       "        <td>15155207</td>\n",
       "        <td>3503(a)</td>\n",
       "        <td>2015-08-18 16:16:00</td>\n",
       "    </tr>\n",
       "    <tr>\n",
       "        <td>3</td>\n",
       "        <td>3</td>\n",
       "        <td>ARREST</td>\n",
       "        <td>15155207</td>\n",
       "        <td>3304</td>\n",
       "        <td>2015-08-18 16:16:00</td>\n",
       "    </tr>\n",
       "    <tr>\n",
       "        <td>4</td>\n",
       "        <td>4</td>\n",
       "        <td>ARREST</td>\n",
       "        <td>15153568</td>\n",
       "        <td>3503(b)(1)(i)</td>\n",
       "        <td>2015-08-18 17:28:00</td>\n",
       "    </tr>\n",
       "    <tr>\n",
       "        <td>5</td>\n",
       "        <td>5</td>\n",
       "        <td>ARREST</td>\n",
       "        <td>15153568</td>\n",
       "        <td>2710</td>\n",
       "        <td>2015-08-18 17:28:00</td>\n",
       "    </tr>\n",
       "    <tr>\n",
       "        <td>6</td>\n",
       "        <td>6</td>\n",
       "        <td>ARREST</td>\n",
       "        <td>15153568</td>\n",
       "        <td>3304(a)(5)</td>\n",
       "        <td>2015-08-18 17:28:00</td>\n",
       "    </tr>\n",
       "    <tr>\n",
       "        <td>7</td>\n",
       "        <td>7</td>\n",
       "        <td>ARREST</td>\n",
       "        <td>15153568</td>\n",
       "        <td>2709(b)</td>\n",
       "        <td>2015-08-18 17:28:00</td>\n",
       "    </tr>\n",
       "    <tr>\n",
       "        <td>8</td>\n",
       "        <td>8</td>\n",
       "        <td>ARREST</td>\n",
       "        <td>15155324</td>\n",
       "        <td>13(a)(16)</td>\n",
       "        <td>2015-08-18 18:07:00</td>\n",
       "    </tr>\n",
       "    <tr>\n",
       "        <td>9</td>\n",
       "        <td>9</td>\n",
       "        <td>ARREST</td>\n",
       "        <td>15155324</td>\n",
       "        <td>13(a)(32)</td>\n",
       "        <td>2015-08-18 18:07:00</td>\n",
       "    </tr>\n",
       "    <tr>\n",
       "        <td>10</td>\n",
       "        <td>10</td>\n",
       "        <td>ARREST</td>\n",
       "        <td>15155324</td>\n",
       "        <td>13(a)(16)</td>\n",
       "        <td>2015-08-18 18:07:00</td>\n",
       "    </tr>\n",
       "    <tr>\n",
       "        <td>11</td>\n",
       "        <td>11</td>\n",
       "        <td>ARREST</td>\n",
       "        <td>15155324</td>\n",
       "        <td>3334</td>\n",
       "        <td>2015-08-18 18:07:00</td>\n",
       "    </tr>\n",
       "    <tr>\n",
       "        <td>12</td>\n",
       "        <td>12</td>\n",
       "        <td>ARREST</td>\n",
       "        <td>15155523</td>\n",
       "        <td>13(a)(31)</td>\n",
       "        <td>2015-08-18 23:07:00</td>\n",
       "    </tr>\n",
       "    <tr>\n",
       "        <td>13</td>\n",
       "        <td>13</td>\n",
       "        <td>ARREST</td>\n",
       "        <td>15155523</td>\n",
       "        <td>9501</td>\n",
       "        <td>2015-08-18 23:07:00</td>\n",
       "    </tr>\n",
       "    <tr>\n",
       "        <td>14</td>\n",
       "        <td>14</td>\n",
       "        <td>ARREST</td>\n",
       "        <td>15155523</td>\n",
       "        <td>13(a)(31)</td>\n",
       "        <td>2015-08-18 23:07:00</td>\n",
       "    </tr>\n",
       "    <tr>\n",
       "        <td>15</td>\n",
       "        <td>15</td>\n",
       "        <td>ARREST</td>\n",
       "        <td>15143970</td>\n",
       "        <td>2706</td>\n",
       "        <td>2015-08-18 10:10:00</td>\n",
       "    </tr>\n",
       "    <tr>\n",
       "        <td>16</td>\n",
       "        <td>16</td>\n",
       "        <td>ARREST</td>\n",
       "        <td>15143970</td>\n",
       "        <td>3923</td>\n",
       "        <td>2015-08-18 10:10:00</td>\n",
       "    </tr>\n",
       "    <tr>\n",
       "        <td>17</td>\n",
       "        <td>17</td>\n",
       "        <td>ARREST</td>\n",
       "        <td>15155208</td>\n",
       "        <td>1543</td>\n",
       "        <td>2015-08-18 16:38:00</td>\n",
       "    </tr>\n",
       "    <tr>\n",
       "        <td>18</td>\n",
       "        <td>18</td>\n",
       "        <td>ARREST</td>\n",
       "        <td>15155208</td>\n",
       "        <td>3921</td>\n",
       "        <td>2015-08-18 16:38:00</td>\n",
       "    </tr>\n",
       "    <tr>\n",
       "        <td>19</td>\n",
       "        <td>19</td>\n",
       "        <td>ARREST</td>\n",
       "        <td>15155208</td>\n",
       "        <td>3925</td>\n",
       "        <td>2015-08-18 16:38:00</td>\n",
       "    </tr>\n",
       "    <tr>\n",
       "        <td>20</td>\n",
       "        <td>20</td>\n",
       "        <td>ARREST</td>\n",
       "        <td>15155340</td>\n",
       "        <td>4303</td>\n",
       "        <td>2015-08-18 18:45:00</td>\n",
       "    </tr>\n",
       "</table>"
      ],
      "text/plain": [
       "[(1, 1, 'ARREST', 15155207, '5505', datetime.datetime(2015, 8, 18, 16, 16)),\n",
       " (2, 2, 'ARREST', 15155207, '3503(a)', datetime.datetime(2015, 8, 18, 16, 16)),\n",
       " (3, 3, 'ARREST', 15155207, '3304', datetime.datetime(2015, 8, 18, 16, 16)),\n",
       " (4, 4, 'ARREST', 15153568, '3503(b)(1)(i)', datetime.datetime(2015, 8, 18, 17, 28)),\n",
       " (5, 5, 'ARREST', 15153568, '2710', datetime.datetime(2015, 8, 18, 17, 28)),\n",
       " (6, 6, 'ARREST', 15153568, '3304(a)(5)', datetime.datetime(2015, 8, 18, 17, 28)),\n",
       " (7, 7, 'ARREST', 15153568, '2709(b)', datetime.datetime(2015, 8, 18, 17, 28)),\n",
       " (8, 8, 'ARREST', 15155324, '13(a)(16)', datetime.datetime(2015, 8, 18, 18, 7)),\n",
       " (9, 9, 'ARREST', 15155324, '13(a)(32)', datetime.datetime(2015, 8, 18, 18, 7)),\n",
       " (10, 10, 'ARREST', 15155324, '13(a)(16)', datetime.datetime(2015, 8, 18, 18, 7)),\n",
       " (11, 11, 'ARREST', 15155324, '3334', datetime.datetime(2015, 8, 18, 18, 7)),\n",
       " (12, 12, 'ARREST', 15155523, '13(a)(31)', datetime.datetime(2015, 8, 18, 23, 7)),\n",
       " (13, 13, 'ARREST', 15155523, '9501', datetime.datetime(2015, 8, 18, 23, 7)),\n",
       " (14, 14, 'ARREST', 15155523, '13(a)(31)', datetime.datetime(2015, 8, 18, 23, 7)),\n",
       " (15, 15, 'ARREST', 15143970, '2706', datetime.datetime(2015, 8, 18, 10, 10)),\n",
       " (16, 16, 'ARREST', 15143970, '3923', datetime.datetime(2015, 8, 18, 10, 10)),\n",
       " (17, 17, 'ARREST', 15155208, '1543', datetime.datetime(2015, 8, 18, 16, 38)),\n",
       " (18, 18, 'ARREST', 15155208, '3921', datetime.datetime(2015, 8, 18, 16, 38)),\n",
       " (19, 19, 'ARREST', 15155208, '3925', datetime.datetime(2015, 8, 18, 16, 38)),\n",
       " (20, 20, 'ARREST', 15155340, '4303', datetime.datetime(2015, 8, 18, 18, 45))]"
      ]
     },
     "execution_count": 37,
     "metadata": {},
     "output_type": "execute_result"
    }
   ],
   "source": [
    "%%sql\n",
    "SELECT *\n",
    "FROM crimefact\n",
    "LIMIT 20"
   ]
  },
  {
   "cell_type": "markdown",
   "metadata": {},
   "source": [
    "## Problem 4 - explore your data in its new schema (30 points)\n",
    "\n",
    "Strictly using the dimensional model tables you defined and populated for Problem 3, explore your data in its new form.  Use any of the query strategies we've seen in class, including transformations, aggregates, subqueries, rollups, and, of course, joins.  Add plots to highlight particular themes that stand out.  Describe your thinking and observations along the way."
   ]
  },
  {
   "cell_type": "markdown",
   "metadata": {},
   "source": [
    "Now we have the new schema, lets explore crimefact table by looking through description dimention first."
   ]
  },
  {
   "cell_type": "code",
   "execution_count": 38,
   "metadata": {
    "collapsed": false,
    "scrolled": true
   },
   "outputs": [
    {
     "name": "stdout",
     "output_type": "stream",
     "text": [
      "10 rows affected.\n"
     ]
    },
    {
     "data": {
      "text/html": [
       "<table>\n",
       "    <tr>\n",
       "        <th>location_id</th>\n",
       "        <th>description_id</th>\n",
       "        <th>report_name</th>\n",
       "        <th>ccr</th>\n",
       "        <th>section</th>\n",
       "        <th>arrest_time</th>\n",
       "        <th>description_id_1</th>\n",
       "        <th>description</th>\n",
       "    </tr>\n",
       "    <tr>\n",
       "        <td>1</td>\n",
       "        <td>1</td>\n",
       "        <td>ARREST</td>\n",
       "        <td>15155207</td>\n",
       "        <td>5505</td>\n",
       "        <td>2015-08-18 16:16:00</td>\n",
       "        <td>1</td>\n",
       "        <td>Public Drunkenness</td>\n",
       "    </tr>\n",
       "    <tr>\n",
       "        <td>2</td>\n",
       "        <td>2</td>\n",
       "        <td>ARREST</td>\n",
       "        <td>15155207</td>\n",
       "        <td>3503(a)</td>\n",
       "        <td>2015-08-18 16:16:00</td>\n",
       "        <td>2</td>\n",
       "        <td>Criminal Trespass</td>\n",
       "    </tr>\n",
       "    <tr>\n",
       "        <td>3</td>\n",
       "        <td>3</td>\n",
       "        <td>ARREST</td>\n",
       "        <td>15155207</td>\n",
       "        <td>3304</td>\n",
       "        <td>2015-08-18 16:16:00</td>\n",
       "        <td>3</td>\n",
       "        <td>Criminal Mischief.</td>\n",
       "    </tr>\n",
       "    <tr>\n",
       "        <td>4</td>\n",
       "        <td>4</td>\n",
       "        <td>ARREST</td>\n",
       "        <td>15153568</td>\n",
       "        <td>3503(b)(1)(i)</td>\n",
       "        <td>2015-08-18 17:28:00</td>\n",
       "        <td>4</td>\n",
       "        <td>Actual Communication</td>\n",
       "    </tr>\n",
       "    <tr>\n",
       "        <td>5</td>\n",
       "        <td>5</td>\n",
       "        <td>ARREST</td>\n",
       "        <td>15153568</td>\n",
       "        <td>2710</td>\n",
       "        <td>2015-08-18 17:28:00</td>\n",
       "        <td>5</td>\n",
       "        <td>Ethnic Intimidation.</td>\n",
       "    </tr>\n",
       "    <tr>\n",
       "        <td>6</td>\n",
       "        <td>6</td>\n",
       "        <td>ARREST</td>\n",
       "        <td>15153568</td>\n",
       "        <td>3304(a)(5)</td>\n",
       "        <td>2015-08-18 17:28:00</td>\n",
       "        <td>6</td>\n",
       "        <td>CRIMINAL MISCHIEF - Intentionally Damages Real Or Personal Property Of Another</td>\n",
       "    </tr>\n",
       "    <tr>\n",
       "        <td>7</td>\n",
       "        <td>7</td>\n",
       "        <td>ARREST</td>\n",
       "        <td>15153568</td>\n",
       "        <td>2709(b)</td>\n",
       "        <td>2015-08-18 17:28:00</td>\n",
       "        <td>7</td>\n",
       "        <td>Stalking</td>\n",
       "    </tr>\n",
       "    <tr>\n",
       "        <td>8</td>\n",
       "        <td>8</td>\n",
       "        <td>ARREST</td>\n",
       "        <td>15155324</td>\n",
       "        <td>13(a)(16)</td>\n",
       "        <td>2015-08-18 18:07:00</td>\n",
       "        <td>8</td>\n",
       "        <td>Possession of Controlled Substance</td>\n",
       "    </tr>\n",
       "    <tr>\n",
       "        <td>9</td>\n",
       "        <td>9</td>\n",
       "        <td>ARREST</td>\n",
       "        <td>15155324</td>\n",
       "        <td>13(a)(32)</td>\n",
       "        <td>2015-08-18 18:07:00</td>\n",
       "        <td>9</td>\n",
       "        <td>Paraphernalia - Use or Possession</td>\n",
       "    </tr>\n",
       "    <tr>\n",
       "        <td>10</td>\n",
       "        <td>10</td>\n",
       "        <td>ARREST</td>\n",
       "        <td>15155324</td>\n",
       "        <td>13(a)(16)</td>\n",
       "        <td>2015-08-18 18:07:00</td>\n",
       "        <td>10</td>\n",
       "        <td>Possession of Controlled Substance</td>\n",
       "    </tr>\n",
       "</table>"
      ],
      "text/plain": [
       "[(1, 1, 'ARREST', 15155207, '5505', datetime.datetime(2015, 8, 18, 16, 16), 1, 'Public Drunkenness'),\n",
       " (2, 2, 'ARREST', 15155207, '3503(a)', datetime.datetime(2015, 8, 18, 16, 16), 2, 'Criminal Trespass'),\n",
       " (3, 3, 'ARREST', 15155207, '3304', datetime.datetime(2015, 8, 18, 16, 16), 3, 'Criminal Mischief.'),\n",
       " (4, 4, 'ARREST', 15153568, '3503(b)(1)(i)', datetime.datetime(2015, 8, 18, 17, 28), 4, 'Actual Communication'),\n",
       " (5, 5, 'ARREST', 15153568, '2710', datetime.datetime(2015, 8, 18, 17, 28), 5, 'Ethnic Intimidation.'),\n",
       " (6, 6, 'ARREST', 15153568, '3304(a)(5)', datetime.datetime(2015, 8, 18, 17, 28), 6, 'CRIMINAL MISCHIEF - Intentionally Damages Real Or Personal Property Of Another'),\n",
       " (7, 7, 'ARREST', 15153568, '2709(b)', datetime.datetime(2015, 8, 18, 17, 28), 7, 'Stalking'),\n",
       " (8, 8, 'ARREST', 15155324, '13(a)(16)', datetime.datetime(2015, 8, 18, 18, 7), 8, 'Possession of Controlled Substance'),\n",
       " (9, 9, 'ARREST', 15155324, '13(a)(32)', datetime.datetime(2015, 8, 18, 18, 7), 9, 'Paraphernalia - Use or Possession'),\n",
       " (10, 10, 'ARREST', 15155324, '13(a)(16)', datetime.datetime(2015, 8, 18, 18, 7), 10, 'Possession of Controlled Substance')]"
      ]
     },
     "execution_count": 38,
     "metadata": {},
     "output_type": "execute_result"
    }
   ],
   "source": [
    "%%sql\n",
    "select *\n",
    "from crimefact,description_dim\n",
    "where crimefact.description_id = description_dim.description_id\n",
    "limit 10 "
   ]
  },
  {
   "cell_type": "markdown",
   "metadata": {},
   "source": [
    "Here, I try to find out the top 10 description that happened most in the new schema,and actually I realized that we get the same result as what we did in Q2. \"Crimianl Mischief\" is the description that happened most for all the crimes' record."
   ]
  },
  {
   "cell_type": "code",
   "execution_count": 39,
   "metadata": {
    "collapsed": false
   },
   "outputs": [
    {
     "name": "stdout",
     "output_type": "stream",
     "text": [
      "10 rows affected.\n"
     ]
    },
    {
     "data": {
      "text/html": [
       "<table>\n",
       "    <tr>\n",
       "        <th>count</th>\n",
       "        <th>description</th>\n",
       "    </tr>\n",
       "    <tr>\n",
       "        <td>5637</td>\n",
       "        <td>Criminal Mischief.</td>\n",
       "    </tr>\n",
       "    <tr>\n",
       "        <td>5279</td>\n",
       "        <td>Simple Assault.</td>\n",
       "    </tr>\n",
       "    <tr>\n",
       "        <td>4824</td>\n",
       "        <td>Possession of Controlled Substance</td>\n",
       "    </tr>\n",
       "    <tr>\n",
       "        <td>3797</td>\n",
       "        <td>Paraphernalia - Use or Possession</td>\n",
       "    </tr>\n",
       "    <tr>\n",
       "        <td>3475</td>\n",
       "        <td>Theft by Unlawful Taking or Disposition.</td>\n",
       "    </tr>\n",
       "    <tr>\n",
       "        <td>3471</td>\n",
       "        <td>Burglary.</td>\n",
       "    </tr>\n",
       "    <tr>\n",
       "        <td>3295</td>\n",
       "        <td>Accidents Involving Damage to Unattended Veh.or Prop.</td>\n",
       "    </tr>\n",
       "    <tr>\n",
       "        <td>3224</td>\n",
       "        <td>Theft from Vehicle</td>\n",
       "    </tr>\n",
       "    <tr>\n",
       "        <td>2854</td>\n",
       "        <td>Aggravated Assault.</td>\n",
       "    </tr>\n",
       "    <tr>\n",
       "        <td>2744</td>\n",
       "        <td>Bench Warrant</td>\n",
       "    </tr>\n",
       "</table>"
      ],
      "text/plain": [
       "[(5637, 'Criminal Mischief.'),\n",
       " (5279, 'Simple Assault.'),\n",
       " (4824, 'Possession of Controlled Substance'),\n",
       " (3797, 'Paraphernalia - Use or Possession'),\n",
       " (3475, 'Theft by Unlawful Taking or Disposition.'),\n",
       " (3471, 'Burglary.'),\n",
       " (3295, 'Accidents Involving Damage to Unattended Veh.or Prop.'),\n",
       " (3224, 'Theft from Vehicle'),\n",
       " (2854, 'Aggravated Assault.'),\n",
       " (2744, 'Bench Warrant')]"
      ]
     },
     "execution_count": 39,
     "metadata": {},
     "output_type": "execute_result"
    }
   ],
   "source": [
    "%%sql\n",
    "select count(*),description\n",
    "from crimefact,description_dim\n",
    "where crimefact.description_id = description_dim.description_id\n",
    "group by description\n",
    "order by count desc\n",
    "limit 10 "
   ]
  },
  {
   "cell_type": "code",
   "execution_count": 40,
   "metadata": {
    "collapsed": false
   },
   "outputs": [
    {
     "data": {
      "text/plain": [
       "<Container object of 10 artists>"
      ]
     },
     "execution_count": 40,
     "metadata": {},
     "output_type": "execute_result"
    },
    {
     "data": {
      "image/png": "[encoded data removed]",
      "text/plain": [
       "<matplotlib.figure.Figure at 0x7fa6d31ddf98>"
      ]
     },
     "metadata": {},
     "output_type": "display_data"
    }
   ],
   "source": [
    "%matplotlib inline\n",
    "result = _\n",
    "result.bar()"
   ]
  },
  {
   "cell_type": "markdown",
   "metadata": {},
   "source": [
    "Now, lets explore the data by looking though the location dimention, and now, the crimefact looks like the following."
   ]
  },
  {
   "cell_type": "code",
   "execution_count": 41,
   "metadata": {
    "collapsed": false
   },
   "outputs": [
    {
     "name": "stdout",
     "output_type": "stream",
     "text": [
      "10 rows affected.\n"
     ]
    },
    {
     "data": {
      "text/html": [
       "<table>\n",
       "    <tr>\n",
       "        <th>location_id</th>\n",
       "        <th>description_id</th>\n",
       "        <th>report_name</th>\n",
       "        <th>ccr</th>\n",
       "        <th>section</th>\n",
       "        <th>arrest_time</th>\n",
       "        <th>location_id_1</th>\n",
       "        <th>zone</th>\n",
       "        <th>address</th>\n",
       "        <th>neighborhood</th>\n",
       "    </tr>\n",
       "    <tr>\n",
       "        <td>1</td>\n",
       "        <td>1</td>\n",
       "        <td>ARREST</td>\n",
       "        <td>15155207</td>\n",
       "        <td>5505</td>\n",
       "        <td>2015-08-18 16:16:00</td>\n",
       "        <td>1</td>\n",
       "        <td>3</td>\n",
       "        <td>100 block Jucunda St</td>\n",
       "        <td>Knoxville</td>\n",
       "    </tr>\n",
       "    <tr>\n",
       "        <td>2</td>\n",
       "        <td>2</td>\n",
       "        <td>ARREST</td>\n",
       "        <td>15155207</td>\n",
       "        <td>3503(a)</td>\n",
       "        <td>2015-08-18 16:16:00</td>\n",
       "        <td>2</td>\n",
       "        <td>3</td>\n",
       "        <td>100 block Jucunda St</td>\n",
       "        <td>Knoxville</td>\n",
       "    </tr>\n",
       "    <tr>\n",
       "        <td>3</td>\n",
       "        <td>3</td>\n",
       "        <td>ARREST</td>\n",
       "        <td>15155207</td>\n",
       "        <td>3304</td>\n",
       "        <td>2015-08-18 16:16:00</td>\n",
       "        <td>3</td>\n",
       "        <td>3</td>\n",
       "        <td>100 block Jucunda St</td>\n",
       "        <td>Knoxville</td>\n",
       "    </tr>\n",
       "    <tr>\n",
       "        <td>4</td>\n",
       "        <td>4</td>\n",
       "        <td>ARREST</td>\n",
       "        <td>15153568</td>\n",
       "        <td>3503(b)(1)(i)</td>\n",
       "        <td>2015-08-18 17:28:00</td>\n",
       "        <td>4</td>\n",
       "        <td>3</td>\n",
       "        <td>400 block Orchard Pl</td>\n",
       "        <td>Knoxville</td>\n",
       "    </tr>\n",
       "    <tr>\n",
       "        <td>5</td>\n",
       "        <td>5</td>\n",
       "        <td>ARREST</td>\n",
       "        <td>15153568</td>\n",
       "        <td>2710</td>\n",
       "        <td>2015-08-18 17:28:00</td>\n",
       "        <td>5</td>\n",
       "        <td>3</td>\n",
       "        <td>400 block Orchard Pl</td>\n",
       "        <td>Knoxville</td>\n",
       "    </tr>\n",
       "    <tr>\n",
       "        <td>6</td>\n",
       "        <td>6</td>\n",
       "        <td>ARREST</td>\n",
       "        <td>15153568</td>\n",
       "        <td>3304(a)(5)</td>\n",
       "        <td>2015-08-18 17:28:00</td>\n",
       "        <td>6</td>\n",
       "        <td>3</td>\n",
       "        <td>400 block Orchard Pl</td>\n",
       "        <td>Knoxville</td>\n",
       "    </tr>\n",
       "    <tr>\n",
       "        <td>7</td>\n",
       "        <td>7</td>\n",
       "        <td>ARREST</td>\n",
       "        <td>15153568</td>\n",
       "        <td>2709(b)</td>\n",
       "        <td>2015-08-18 17:28:00</td>\n",
       "        <td>7</td>\n",
       "        <td>3</td>\n",
       "        <td>400 block Orchard Pl</td>\n",
       "        <td>Knoxville</td>\n",
       "    </tr>\n",
       "    <tr>\n",
       "        <td>8</td>\n",
       "        <td>8</td>\n",
       "        <td>ARREST</td>\n",
       "        <td>15155324</td>\n",
       "        <td>13(a)(16)</td>\n",
       "        <td>2015-08-18 18:07:00</td>\n",
       "        <td>8</td>\n",
       "        <td>3</td>\n",
       "        <td>Brownsville Rd &amp; Calhoun Ave</td>\n",
       "        <td>Carrick</td>\n",
       "    </tr>\n",
       "    <tr>\n",
       "        <td>9</td>\n",
       "        <td>9</td>\n",
       "        <td>ARREST</td>\n",
       "        <td>15155324</td>\n",
       "        <td>13(a)(32)</td>\n",
       "        <td>2015-08-18 18:07:00</td>\n",
       "        <td>9</td>\n",
       "        <td>3</td>\n",
       "        <td>Brownsville Rd &amp; Calhoun Ave</td>\n",
       "        <td>Carrick</td>\n",
       "    </tr>\n",
       "    <tr>\n",
       "        <td>10</td>\n",
       "        <td>10</td>\n",
       "        <td>ARREST</td>\n",
       "        <td>15155324</td>\n",
       "        <td>13(a)(16)</td>\n",
       "        <td>2015-08-18 18:07:00</td>\n",
       "        <td>10</td>\n",
       "        <td>3</td>\n",
       "        <td>Brownsville Rd &amp; Calhoun Ave</td>\n",
       "        <td>Carrick</td>\n",
       "    </tr>\n",
       "</table>"
      ],
      "text/plain": [
       "[(1, 1, 'ARREST', 15155207, '5505', datetime.datetime(2015, 8, 18, 16, 16), 1, 3, '100 block Jucunda St', 'Knoxville'),\n",
       " (2, 2, 'ARREST', 15155207, '3503(a)', datetime.datetime(2015, 8, 18, 16, 16), 2, 3, '100 block Jucunda St', 'Knoxville'),\n",
       " (3, 3, 'ARREST', 15155207, '3304', datetime.datetime(2015, 8, 18, 16, 16), 3, 3, '100 block Jucunda St', 'Knoxville'),\n",
       " (4, 4, 'ARREST', 15153568, '3503(b)(1)(i)', datetime.datetime(2015, 8, 18, 17, 28), 4, 3, '400 block Orchard Pl', 'Knoxville'),\n",
       " (5, 5, 'ARREST', 15153568, '2710', datetime.datetime(2015, 8, 18, 17, 28), 5, 3, '400 block Orchard Pl', 'Knoxville'),\n",
       " (6, 6, 'ARREST', 15153568, '3304(a)(5)', datetime.datetime(2015, 8, 18, 17, 28), 6, 3, '400 block Orchard Pl', 'Knoxville'),\n",
       " (7, 7, 'ARREST', 15153568, '2709(b)', datetime.datetime(2015, 8, 18, 17, 28), 7, 3, '400 block Orchard Pl', 'Knoxville'),\n",
       " (8, 8, 'ARREST', 15155324, '13(a)(16)', datetime.datetime(2015, 8, 18, 18, 7), 8, 3, 'Brownsville Rd & Calhoun Ave', 'Carrick'),\n",
       " (9, 9, 'ARREST', 15155324, '13(a)(32)', datetime.datetime(2015, 8, 18, 18, 7), 9, 3, 'Brownsville Rd & Calhoun Ave', 'Carrick'),\n",
       " (10, 10, 'ARREST', 15155324, '13(a)(16)', datetime.datetime(2015, 8, 18, 18, 7), 10, 3, 'Brownsville Rd & Calhoun Ave', 'Carrick')]"
      ]
     },
     "execution_count": 41,
     "metadata": {},
     "output_type": "execute_result"
    }
   ],
   "source": [
    "%%sql\n",
    "select *\n",
    "from crimefact,location_dim\n",
    "where crimefact.location_id = location_dim.location_id\n",
    "limit 10 "
   ]
  },
  {
   "cell_type": "markdown",
   "metadata": {},
   "source": [
    "Here, I try to find out the top 10 neighborhood that crimes happened most in  in the new schema. I realized that we still get the same output as what had in Q2! Golden Triangle is the neighbohood which crime happened most!"
   ]
  },
  {
   "cell_type": "code",
   "execution_count": 42,
   "metadata": {
    "collapsed": false,
    "scrolled": true
   },
   "outputs": [
    {
     "name": "stdout",
     "output_type": "stream",
     "text": [
      "10 rows affected.\n"
     ]
    },
    {
     "data": {
      "text/html": [
       "<table>\n",
       "    <tr>\n",
       "        <th>count</th>\n",
       "        <th>neighborhood</th>\n",
       "    </tr>\n",
       "    <tr>\n",
       "        <td>8229</td>\n",
       "        <td>Golden Triangle/Civic Arena</td>\n",
       "    </tr>\n",
       "    <tr>\n",
       "        <td>7692</td>\n",
       "        <td>South Side Flats</td>\n",
       "    </tr>\n",
       "    <tr>\n",
       "        <td>3538</td>\n",
       "        <td>East Allegheny</td>\n",
       "    </tr>\n",
       "    <tr>\n",
       "        <td>3529</td>\n",
       "        <td>East Liberty</td>\n",
       "    </tr>\n",
       "    <tr>\n",
       "        <td>3422</td>\n",
       "        <td>Carrick</td>\n",
       "    </tr>\n",
       "    <tr>\n",
       "        <td>2711</td>\n",
       "        <td>Brighton Heights</td>\n",
       "    </tr>\n",
       "    <tr>\n",
       "        <td>2605</td>\n",
       "        <td>Bluff</td>\n",
       "    </tr>\n",
       "    <tr>\n",
       "        <td>2577</td>\n",
       "        <td>Sheraden</td>\n",
       "    </tr>\n",
       "    <tr>\n",
       "        <td>2534</td>\n",
       "        <td>Marshall-Shadeland</td>\n",
       "    </tr>\n",
       "    <tr>\n",
       "        <td>2523</td>\n",
       "        <td>Mount Washington</td>\n",
       "    </tr>\n",
       "</table>"
      ],
      "text/plain": [
       "[(8229, 'Golden Triangle/Civic Arena'),\n",
       " (7692, 'South Side Flats'),\n",
       " (3538, 'East Allegheny'),\n",
       " (3529, 'East Liberty'),\n",
       " (3422, 'Carrick'),\n",
       " (2711, 'Brighton Heights'),\n",
       " (2605, 'Bluff'),\n",
       " (2577, 'Sheraden'),\n",
       " (2534, 'Marshall-Shadeland'),\n",
       " (2523, 'Mount Washington')]"
      ]
     },
     "execution_count": 42,
     "metadata": {},
     "output_type": "execute_result"
    }
   ],
   "source": [
    "%%sql\n",
    "select count(*),neighborhood\n",
    "from crimefact,location_dim\n",
    "where crimefact.location_id = location_dim.location_id\n",
    "group by neighborhood\n",
    "order by count desc\n",
    "limit 10 "
   ]
  },
  {
   "cell_type": "code",
   "execution_count": 43,
   "metadata": {
    "collapsed": false
   },
   "outputs": [
    {
     "data": {
      "text/plain": [
       "<Container object of 10 artists>"
      ]
     },
     "execution_count": 43,
     "metadata": {},
     "output_type": "execute_result"
    },
    {
     "data": {
      "image/png": "[encoded data removed]",
      "text/plain": [
       "<matplotlib.figure.Figure at 0x7fa6d4f80588>"
      ]
     },
     "metadata": {},
     "output_type": "display_data"
    }
   ],
   "source": [
    "%matplotlib inline\n",
    "result = _\n",
    "result.bar()"
   ]
  },
  {
   "cell_type": "markdown",
   "metadata": {},
   "source": [
    "Now, in the new schema, we try to use join code to find out in what months that crimes happened most, we  take \"months\" from the \"arrest time\" and draw a graph, we found out still month 7,8,9 are the three top months that crimes happened most in. Probabaly because during these 3 months, the temperature is very nice, and it during the summer break, which maybe are the reasons that crimes happened more in these 3 months than others."
   ]
  },
  {
   "cell_type": "code",
   "execution_count": 44,
   "metadata": {
    "collapsed": false
   },
   "outputs": [
    {
     "name": "stdout",
     "output_type": "stream",
     "text": [
      "12 rows affected.\n"
     ]
    },
    {
     "data": {
      "text/html": [
       "<table>\n",
       "    <tr>\n",
       "        <th>months</th>\n",
       "        <th>count</th>\n",
       "    </tr>\n",
       "    <tr>\n",
       "        <td>01</td>\n",
       "        <td>5839</td>\n",
       "    </tr>\n",
       "    <tr>\n",
       "        <td>02</td>\n",
       "        <td>5619</td>\n",
       "    </tr>\n",
       "    <tr>\n",
       "        <td>03</td>\n",
       "        <td>9112</td>\n",
       "    </tr>\n",
       "    <tr>\n",
       "        <td>04</td>\n",
       "        <td>10304</td>\n",
       "    </tr>\n",
       "    <tr>\n",
       "        <td>05</td>\n",
       "        <td>11908</td>\n",
       "    </tr>\n",
       "    <tr>\n",
       "        <td>06</td>\n",
       "        <td>12365</td>\n",
       "    </tr>\n",
       "    <tr>\n",
       "        <td>07</td>\n",
       "        <td>12732</td>\n",
       "    </tr>\n",
       "    <tr>\n",
       "        <td>08</td>\n",
       "        <td>13469</td>\n",
       "    </tr>\n",
       "    <tr>\n",
       "        <td>09</td>\n",
       "        <td>12004</td>\n",
       "    </tr>\n",
       "    <tr>\n",
       "        <td>10</td>\n",
       "        <td>11862</td>\n",
       "    </tr>\n",
       "    <tr>\n",
       "        <td>11</td>\n",
       "        <td>8091</td>\n",
       "    </tr>\n",
       "    <tr>\n",
       "        <td>12</td>\n",
       "        <td>5305</td>\n",
       "    </tr>\n",
       "</table>"
      ],
      "text/plain": [
       "[('01', 5839),\n",
       " ('02', 5619),\n",
       " ('03', 9112),\n",
       " ('04', 10304),\n",
       " ('05', 11908),\n",
       " ('06', 12365),\n",
       " ('07', 12732),\n",
       " ('08', 13469),\n",
       " ('09', 12004),\n",
       " ('10', 11862),\n",
       " ('11', 8091),\n",
       " ('12', 5305)]"
      ]
     },
     "execution_count": 44,
     "metadata": {},
     "output_type": "execute_result"
    }
   ],
   "source": [
    "%%sql\n",
    "SELECT TO_CHAR(ARREST_TIME, 'MM') AS months, COUNT(*) as count\n",
    "from crimefact join location_dim on crimefact.location_id = location_dim.location_id \n",
    "               join description_dim on crimefact.location_id = description_dim.description_id\n",
    "GROUP BY months\n",
    "ORDER BY months"
   ]
  },
  {
   "cell_type": "code",
   "execution_count": 45,
   "metadata": {
    "collapsed": false
   },
   "outputs": [
    {
     "data": {
      "text/plain": [
       "<Container object of 12 artists>"
      ]
     },
     "execution_count": 45,
     "metadata": {},
     "output_type": "execute_result"
    },
    {
     "data": {
      "image/png": "[encoded data removed]",
      "text/plain": [
       "<matplotlib.figure.Figure at 0x7fa6d4fc9240>"
      ]
     },
     "metadata": {},
     "output_type": "display_data"
    }
   ],
   "source": [
    "%matplotlib inline\n",
    "result = _\n",
    "result.bar()"
   ]
  },
  {
   "cell_type": "markdown",
   "metadata": {},
   "source": [
    "The outputs are matched with the source data!"
   ]
  },
  {
   "cell_type": "markdown",
   "metadata": {},
   "source": [
    "By join method, lets find out what is the 10 most Central Control Record number happened most which associated with crime records. We can see that \"16107722\" is the Central Control Record number that associated with crime recoreds morst, and much more than other Central Control Record number."
   ]
  },
  {
   "cell_type": "code",
   "execution_count": 46,
   "metadata": {
    "collapsed": false
   },
   "outputs": [
    {
     "name": "stdout",
     "output_type": "stream",
     "text": [
      "10 rows affected.\n"
     ]
    },
    {
     "data": {
      "text/html": [
       "<table>\n",
       "    <tr>\n",
       "        <th>ccr</th>\n",
       "        <th>count</th>\n",
       "    </tr>\n",
       "    <tr>\n",
       "        <td>16107722</td>\n",
       "        <td>1030894208</td>\n",
       "    </tr>\n",
       "    <tr>\n",
       "        <td>16073458</td>\n",
       "        <td>996554396</td>\n",
       "    </tr>\n",
       "    <tr>\n",
       "        <td>15150094</td>\n",
       "        <td>909005640</td>\n",
       "    </tr>\n",
       "    <tr>\n",
       "        <td>16108572</td>\n",
       "        <td>837645744</td>\n",
       "    </tr>\n",
       "    <tr>\n",
       "        <td>15146757</td>\n",
       "        <td>742191093</td>\n",
       "    </tr>\n",
       "    <tr>\n",
       "        <td>15092372</td>\n",
       "        <td>739526228</td>\n",
       "    </tr>\n",
       "    <tr>\n",
       "        <td>16031412</td>\n",
       "        <td>657287892</td>\n",
       "    </tr>\n",
       "    <tr>\n",
       "        <td>16013896</td>\n",
       "        <td>640555840</td>\n",
       "    </tr>\n",
       "    <tr>\n",
       "        <td>16062407</td>\n",
       "        <td>626433873</td>\n",
       "    </tr>\n",
       "    <tr>\n",
       "        <td>15172344</td>\n",
       "        <td>576549072</td>\n",
       "    </tr>\n",
       "</table>"
      ],
      "text/plain": [
       "[(16107722, 1030894208),\n",
       " (16073458, 996554396),\n",
       " (15150094, 909005640),\n",
       " (16108572, 837645744),\n",
       " (15146757, 742191093),\n",
       " (15092372, 739526228),\n",
       " (16031412, 657287892),\n",
       " (16013896, 640555840),\n",
       " (16062407, 626433873),\n",
       " (15172344, 576549072)]"
      ]
     },
     "execution_count": 46,
     "metadata": {},
     "output_type": "execute_result"
    }
   ],
   "source": [
    "%%sql\n",
    "select ccr, sum(ccr) as Count\n",
    "from crimefact join location_dim on crimefact.location_id = location_dim.location_id \n",
    "               join description_dim on crimefact.location_id = description_dim.description_id\n",
    "group by ccr\n",
    "ORDER BY count DESC\n",
    "LIMIT 10\n",
    ";"
   ]
  },
  {
   "cell_type": "code",
   "execution_count": 47,
   "metadata": {
    "collapsed": false
   },
   "outputs": [
    {
     "data": {
      "text/plain": [
       "<Container object of 10 artists>"
      ]
     },
     "execution_count": 47,
     "metadata": {},
     "output_type": "execute_result"
    },
    {
     "data": {
      "image/png": "[encoded data removed]",
      "text/plain": [
       "<matplotlib.figure.Figure at 0x7fa6d5020080>"
      ]
     },
     "metadata": {},
     "output_type": "display_data"
    }
   ],
   "source": [
    "%matplotlib inline\n",
    "result = _\n",
    "result.bar()"
   ]
  },
  {
   "cell_type": "markdown",
   "metadata": {},
   "source": [
    "Here we try to find out in what zone that crimes happened most, and we draw a pie char to see the result more clearly. Zone one is the zone that crimes happened most."
   ]
  },
  {
   "cell_type": "code",
   "execution_count": 48,
   "metadata": {
    "collapsed": false
   },
   "outputs": [
    {
     "name": "stdout",
     "output_type": "stream",
     "text": [
      "6 rows affected.\n"
     ]
    },
    {
     "data": {
      "text/html": [
       "<table>\n",
       "    <tr>\n",
       "        <th>zone</th>\n",
       "        <th>count</th>\n",
       "    </tr>\n",
       "    <tr>\n",
       "        <td>1</td>\n",
       "        <td>26277</td>\n",
       "    </tr>\n",
       "    <tr>\n",
       "        <td>3</td>\n",
       "        <td>24339</td>\n",
       "    </tr>\n",
       "    <tr>\n",
       "        <td>5</td>\n",
       "        <td>20762</td>\n",
       "    </tr>\n",
       "    <tr>\n",
       "        <td>2</td>\n",
       "        <td>19580</td>\n",
       "    </tr>\n",
       "    <tr>\n",
       "        <td>4</td>\n",
       "        <td>14363</td>\n",
       "    </tr>\n",
       "    <tr>\n",
       "        <td>6</td>\n",
       "        <td>12744</td>\n",
       "    </tr>\n",
       "</table>"
      ],
      "text/plain": [
       "[(1, 26277), (3, 24339), (5, 20762), (2, 19580), (4, 14363), (6, 12744)]"
      ]
     },
     "execution_count": 48,
     "metadata": {},
     "output_type": "execute_result"
    }
   ],
   "source": [
    "%%sql \n",
    "SELECT ZONE, COUNT(*) \n",
    "from crimefact,location_dim\n",
    "where crimefact.location_id = location_dim.location_id\n",
    "group by ZONE\n",
    "order by count desc\n",
    "LIMIT 6;\n"
   ]
  },
  {
   "cell_type": "code",
   "execution_count": 49,
   "metadata": {
    "collapsed": false
   },
   "outputs": [
    {
     "data": {
      "text/plain": [
       "([<matplotlib.patches.Wedge at 0x7fa6d04b49b0>,\n",
       "  <matplotlib.patches.Wedge at 0x7fa6d043a668>,\n",
       "  <matplotlib.patches.Wedge at 0x7fa6d04412e8>,\n",
       "  <matplotlib.patches.Wedge at 0x7fa6d0441f28>,\n",
       "  <matplotlib.patches.Wedge at 0x7fa6d0448ba8>,\n",
       "  <matplotlib.patches.Wedge at 0x7fa6d044d828>],\n",
       " [<matplotlib.text.Text at 0x7fa6d043a208>,\n",
       "  <matplotlib.text.Text at 0x7fa6d043ae48>,\n",
       "  <matplotlib.text.Text at 0x7fa6d0441ac8>,\n",
       "  <matplotlib.text.Text at 0x7fa6d0448748>,\n",
       "  <matplotlib.text.Text at 0x7fa6d044d3c8>,\n",
       "  <matplotlib.text.Text at 0x7fa6d044df28>])"
      ]
     },
     "execution_count": 49,
     "metadata": {},
     "output_type": "execute_result"
    },
    {
     "data": {
      "image/png": "[encoded data removed]",
      "text/plain": [
       "<matplotlib.figure.Figure at 0x7fa6d4fc4a20>"
      ]
     },
     "metadata": {},
     "output_type": "display_data"
    }
   ],
   "source": [
    "%matplotlib inline\n",
    "result = _\n",
    "result.pie()"
   ]
  },
  {
   "cell_type": "markdown",
   "metadata": {},
   "source": [
    "## Bonus (10 points for one of A or B)\n",
    "\n",
    "\n",
    "### Option A - Automating ETL\n",
    "\n",
    "Consider the work you did to load your original raw dataset and then transform it into a dimensional model for analysis.  What would it take to automate this process?  How often would you need to update the data?  Could you easily automate any data cleaning steps?  What checks would you need to put in place to ensure quality?  Would humans need to be involved, or could you automate it all?\n",
    "\n",
    "Discuss.\n",
    "\n"
   ]
  },
  {
   "cell_type": "markdown",
   "metadata": {
    "collapsed": true
   },
   "source": [
    "### ANSWER TO Option A - Automating ETL\n",
    "\n",
    "Consider the work you did to load your original raw dataset and then transform it into a dimensional model for analysis.\n",
    "##### What would it take to automate this process?\n",
    "To automate the process we will need a user interface where the user can enter csv file name and location. All codes will be written to address a generic filename and location, also, we need to ensure that the each data is valid and  values are correct,avoid to have invalid, dulicated or incorrect values, and we need to do data cleansing to make sure the data quality.\n",
    "\n",
    "\n",
    "\n",
    "##### How often would you need to update the data?\n",
    "There is no absolutely stardard for all the data set for this question, however in this data set, since the arrest_time is accurate to year, month, day, hour, minutes and second. Which shows that crimes are happening every seconds. So it is nice to have updated data set as quick as possible for each time unit, however, due to there is a large number of crime that happened for every second, so it is not easy to updated the data set for each second, so we suggest that to update the data once a week or maybe even once a month. Since there is no critical information in the dataset that may suggest that users will need it on a quick turnaround, and the data is only for information use only.\n",
    "\n",
    "##### Could you easily automate any data cleaning steps?\n",
    "Yes we did deal with null cells data in Q2 to imputes values for null cells. Quick data cleaning steps are always data integrity verification like checking for nulls and duplicate entries by checking the IDs.\n",
    "\n",
    "##### What checks would you need to put in place to ensure quality?\n",
    "There are a couple of checks we can add to ensure the quality of our report. For one, NULLs should not be accepted. We can also reduce the data to a list of acceptable values. This will ensure reports can be generated more uniformly.\n",
    "\n",
    "#####  Would humans need to be involved, or could you automate it all?\n",
    "We believe that user input is always valuable. The program should be responsive to the end user to ensure a versatile and adaptive system.\n"
   ]
  },
  {
   "cell_type": "markdown",
   "metadata": {
    "collapsed": true
   },
   "source": [
    "In this project, we work on each question together, Aida more focusd on Q1, and Q2 and Bonus question, Xing more focused on Q3 and Q4, great teamwork!"
   ]
  },
  {
   "cell_type": "code",
   "execution_count": null,
   "metadata": {
    "collapsed": true
   },
   "outputs": [],
   "source": []
  },
  {
   "cell_type": "code",
   "execution_count": null,
   "metadata": {
    "collapsed": true
   },
   "outputs": [],
   "source": []
  },
  {
   "cell_type": "code",
   "execution_count": null,
   "metadata": {
    "collapsed": true
   },
   "outputs": [],
   "source": []
  }
 ],
 "metadata": {
  "anaconda-cloud": {},
  "kernelspec": {
   "display_name": "Python 3",
   "language": "python",
   "name": "python3"
  },
  "language_info": {
   "codemirror_mode": {
    "name": "ipython",
    "version": 3
   },
   "file_extension": ".py",
   "mimetype": "text/x-python",
   "name": "python",
   "nbconvert_exporter": "python",
   "pygments_lexer": "ipython3",
   "version": "3.5.2"
  }
 },
 "nbformat": 4,
 "nbformat_minor": 1
}
